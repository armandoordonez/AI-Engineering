{
  "nbformat": 4,
  "nbformat_minor": 0,
  "metadata": {
    "colab": {
      "provenance": [],
      "include_colab_link": true
    },
    "kernelspec": {
      "name": "python3",
      "display_name": "Python 3"
    },
    "language_info": {
      "name": "python"
    }
  },
  "cells": [
    {
      "cell_type": "markdown",
      "metadata": {
        "id": "view-in-github",
        "colab_type": "text"
      },
      "source": [
        "<a href=\"https://colab.research.google.com/github/armandoordonez/AI-Engineering/blob/main/agentes_langchain.ipynb\" target=\"_parent\"><img src=\"https://colab.research.google.com/assets/colab-badge.svg\" alt=\"Open In Colab\"/></a>"
      ]
    },
    {
      "cell_type": "code",
      "source": [
        "!pip install -U langchain langchain_google_genai langchain_community langgraph langsmith langgraph-checkpoint-sqlite python-dotenv wikipedia youtube_search"
      ],
      "metadata": {
        "colab": {
          "base_uri": "https://localhost:8080/"
        },
        "id": "0nPyCOEaQ2aH",
        "outputId": "0977fabb-4b41-43e7-9577-e0cc9e2e5c94"
      },
      "execution_count": null,
      "outputs": [
        {
          "output_type": "stream",
          "name": "stdout",
          "text": [
            "Requirement already satisfied: langchain in /usr/local/lib/python3.12/dist-packages (1.0.2)\n",
            "Requirement already satisfied: langchain_google_genai in /usr/local/lib/python3.12/dist-packages (3.0.0)\n",
            "Requirement already satisfied: langchain_community in /usr/local/lib/python3.12/dist-packages (0.4.1)\n",
            "Requirement already satisfied: langgraph in /usr/local/lib/python3.12/dist-packages (1.0.1)\n",
            "Requirement already satisfied: langsmith in /usr/local/lib/python3.12/dist-packages (0.4.38)\n",
            "Requirement already satisfied: langgraph-checkpoint-sqlite in /usr/local/lib/python3.12/dist-packages (3.0.0)\n",
            "Requirement already satisfied: python-dotenv in /usr/local/lib/python3.12/dist-packages (1.2.1)\n",
            "Requirement already satisfied: wikipedia in /usr/local/lib/python3.12/dist-packages (1.4.0)\n",
            "Requirement already satisfied: youtube_search in /usr/local/lib/python3.12/dist-packages (2.1.2)\n",
            "Requirement already satisfied: langchain-core<2.0.0,>=1.0.0 in /usr/local/lib/python3.12/dist-packages (from langchain) (1.0.1)\n",
            "Requirement already satisfied: pydantic<3.0.0,>=2.7.4 in /usr/local/lib/python3.12/dist-packages (from langchain) (2.11.10)\n",
            "Requirement already satisfied: google-ai-generativelanguage<1.0.0,>=0.7.0 in /usr/local/lib/python3.12/dist-packages (from langchain_google_genai) (0.9.0)\n",
            "Requirement already satisfied: filetype<2.0.0,>=1.2.0 in /usr/local/lib/python3.12/dist-packages (from langchain_google_genai) (1.2.0)\n",
            "Requirement already satisfied: langchain-classic<2.0.0,>=1.0.0 in /usr/local/lib/python3.12/dist-packages (from langchain_community) (1.0.0)\n",
            "Requirement already satisfied: SQLAlchemy<3.0.0,>=1.4.0 in /usr/local/lib/python3.12/dist-packages (from langchain_community) (2.0.44)\n",
            "Requirement already satisfied: requests<3.0.0,>=2.32.5 in /usr/local/lib/python3.12/dist-packages (from langchain_community) (2.32.5)\n",
            "Requirement already satisfied: PyYAML<7.0.0,>=5.3.0 in /usr/local/lib/python3.12/dist-packages (from langchain_community) (6.0.3)\n",
            "Requirement already satisfied: aiohttp<4.0.0,>=3.8.3 in /usr/local/lib/python3.12/dist-packages (from langchain_community) (3.13.1)\n",
            "Requirement already satisfied: tenacity!=8.4.0,<10.0.0,>=8.1.0 in /usr/local/lib/python3.12/dist-packages (from langchain_community) (8.5.0)\n",
            "Requirement already satisfied: dataclasses-json<0.7.0,>=0.6.7 in /usr/local/lib/python3.12/dist-packages (from langchain_community) (0.6.7)\n",
            "Requirement already satisfied: pydantic-settings<3.0.0,>=2.10.1 in /usr/local/lib/python3.12/dist-packages (from langchain_community) (2.11.0)\n",
            "Requirement already satisfied: httpx-sse<1.0.0,>=0.4.0 in /usr/local/lib/python3.12/dist-packages (from langchain_community) (0.4.3)\n",
            "Requirement already satisfied: numpy>=1.26.2 in /usr/local/lib/python3.12/dist-packages (from langchain_community) (2.0.2)\n",
            "Requirement already satisfied: langgraph-checkpoint<4.0.0,>=2.1.0 in /usr/local/lib/python3.12/dist-packages (from langgraph) (3.0.0)\n",
            "Requirement already satisfied: langgraph-prebuilt<1.1.0,>=1.0.0 in /usr/local/lib/python3.12/dist-packages (from langgraph) (1.0.1)\n",
            "Requirement already satisfied: langgraph-sdk<0.3.0,>=0.2.2 in /usr/local/lib/python3.12/dist-packages (from langgraph) (0.2.9)\n",
            "Requirement already satisfied: xxhash>=3.5.0 in /usr/local/lib/python3.12/dist-packages (from langgraph) (3.6.0)\n",
            "Requirement already satisfied: httpx<1,>=0.23.0 in /usr/local/lib/python3.12/dist-packages (from langsmith) (0.28.1)\n",
            "Requirement already satisfied: orjson>=3.9.14 in /usr/local/lib/python3.12/dist-packages (from langsmith) (3.11.4)\n",
            "Requirement already satisfied: packaging>=23.2 in /usr/local/lib/python3.12/dist-packages (from langsmith) (25.0)\n",
            "Requirement already satisfied: requests-toolbelt>=1.0.0 in /usr/local/lib/python3.12/dist-packages (from langsmith) (1.0.0)\n",
            "Requirement already satisfied: zstandard>=0.23.0 in /usr/local/lib/python3.12/dist-packages (from langsmith) (0.25.0)\n",
            "Requirement already satisfied: aiosqlite>=0.20 in /usr/local/lib/python3.12/dist-packages (from langgraph-checkpoint-sqlite) (0.21.0)\n",
            "Requirement already satisfied: sqlite-vec>=0.1.6 in /usr/local/lib/python3.12/dist-packages (from langgraph-checkpoint-sqlite) (0.1.6)\n",
            "Requirement already satisfied: beautifulsoup4 in /usr/local/lib/python3.12/dist-packages (from wikipedia) (4.13.5)\n",
            "Requirement already satisfied: aiohappyeyeballs>=2.5.0 in /usr/local/lib/python3.12/dist-packages (from aiohttp<4.0.0,>=3.8.3->langchain_community) (2.6.1)\n",
            "Requirement already satisfied: aiosignal>=1.4.0 in /usr/local/lib/python3.12/dist-packages (from aiohttp<4.0.0,>=3.8.3->langchain_community) (1.4.0)\n",
            "Requirement already satisfied: attrs>=17.3.0 in /usr/local/lib/python3.12/dist-packages (from aiohttp<4.0.0,>=3.8.3->langchain_community) (25.4.0)\n",
            "Requirement already satisfied: frozenlist>=1.1.1 in /usr/local/lib/python3.12/dist-packages (from aiohttp<4.0.0,>=3.8.3->langchain_community) (1.8.0)\n",
            "Requirement already satisfied: multidict<7.0,>=4.5 in /usr/local/lib/python3.12/dist-packages (from aiohttp<4.0.0,>=3.8.3->langchain_community) (6.7.0)\n",
            "Requirement already satisfied: propcache>=0.2.0 in /usr/local/lib/python3.12/dist-packages (from aiohttp<4.0.0,>=3.8.3->langchain_community) (0.4.1)\n",
            "Requirement already satisfied: yarl<2.0,>=1.17.0 in /usr/local/lib/python3.12/dist-packages (from aiohttp<4.0.0,>=3.8.3->langchain_community) (1.22.0)\n",
            "Requirement already satisfied: typing_extensions>=4.0 in /usr/local/lib/python3.12/dist-packages (from aiosqlite>=0.20->langgraph-checkpoint-sqlite) (4.15.0)\n",
            "Requirement already satisfied: marshmallow<4.0.0,>=3.18.0 in /usr/local/lib/python3.12/dist-packages (from dataclasses-json<0.7.0,>=0.6.7->langchain_community) (3.26.1)\n",
            "Requirement already satisfied: typing-inspect<1,>=0.4.0 in /usr/local/lib/python3.12/dist-packages (from dataclasses-json<0.7.0,>=0.6.7->langchain_community) (0.9.0)\n",
            "Requirement already satisfied: google-api-core!=2.0.*,!=2.1.*,!=2.10.*,!=2.2.*,!=2.3.*,!=2.4.*,!=2.5.*,!=2.6.*,!=2.7.*,!=2.8.*,!=2.9.*,<3.0.0,>=1.34.1 in /usr/local/lib/python3.12/dist-packages (from google-api-core[grpc]!=2.0.*,!=2.1.*,!=2.10.*,!=2.2.*,!=2.3.*,!=2.4.*,!=2.5.*,!=2.6.*,!=2.7.*,!=2.8.*,!=2.9.*,<3.0.0,>=1.34.1->google-ai-generativelanguage<1.0.0,>=0.7.0->langchain_google_genai) (2.27.0)\n",
            "Requirement already satisfied: google-auth!=2.24.0,!=2.25.0,<3.0.0,>=2.14.1 in /usr/local/lib/python3.12/dist-packages (from google-ai-generativelanguage<1.0.0,>=0.7.0->langchain_google_genai) (2.38.0)\n",
            "Requirement already satisfied: grpcio<2.0.0,>=1.33.2 in /usr/local/lib/python3.12/dist-packages (from google-ai-generativelanguage<1.0.0,>=0.7.0->langchain_google_genai) (1.76.0)\n",
            "Requirement already satisfied: proto-plus<2.0.0,>=1.22.3 in /usr/local/lib/python3.12/dist-packages (from google-ai-generativelanguage<1.0.0,>=0.7.0->langchain_google_genai) (1.26.1)\n",
            "Requirement already satisfied: protobuf!=4.21.0,!=4.21.1,!=4.21.2,!=4.21.3,!=4.21.4,!=4.21.5,<7.0.0,>=3.20.2 in /usr/local/lib/python3.12/dist-packages (from google-ai-generativelanguage<1.0.0,>=0.7.0->langchain_google_genai) (5.29.5)\n",
            "Requirement already satisfied: anyio in /usr/local/lib/python3.12/dist-packages (from httpx<1,>=0.23.0->langsmith) (4.11.0)\n",
            "Requirement already satisfied: certifi in /usr/local/lib/python3.12/dist-packages (from httpx<1,>=0.23.0->langsmith) (2025.10.5)\n",
            "Requirement already satisfied: httpcore==1.* in /usr/local/lib/python3.12/dist-packages (from httpx<1,>=0.23.0->langsmith) (1.0.9)\n",
            "Requirement already satisfied: idna in /usr/local/lib/python3.12/dist-packages (from httpx<1,>=0.23.0->langsmith) (3.11)\n",
            "Requirement already satisfied: h11>=0.16 in /usr/local/lib/python3.12/dist-packages (from httpcore==1.*->httpx<1,>=0.23.0->langsmith) (0.16.0)\n",
            "Requirement already satisfied: langchain-text-splitters<2.0.0,>=1.0.0 in /usr/local/lib/python3.12/dist-packages (from langchain-classic<2.0.0,>=1.0.0->langchain_community) (1.0.0)\n",
            "Requirement already satisfied: jsonpatch<2.0.0,>=1.33.0 in /usr/local/lib/python3.12/dist-packages (from langchain-core<2.0.0,>=1.0.0->langchain) (1.33)\n",
            "Requirement already satisfied: ormsgpack>=1.10.0 in /usr/local/lib/python3.12/dist-packages (from langgraph-checkpoint<4.0.0,>=2.1.0->langgraph) (1.11.0)\n",
            "Requirement already satisfied: annotated-types>=0.6.0 in /usr/local/lib/python3.12/dist-packages (from pydantic<3.0.0,>=2.7.4->langchain) (0.7.0)\n",
            "Requirement already satisfied: pydantic-core==2.33.2 in /usr/local/lib/python3.12/dist-packages (from pydantic<3.0.0,>=2.7.4->langchain) (2.33.2)\n",
            "Requirement already satisfied: typing-inspection>=0.4.0 in /usr/local/lib/python3.12/dist-packages (from pydantic<3.0.0,>=2.7.4->langchain) (0.4.2)\n",
            "Requirement already satisfied: charset_normalizer<4,>=2 in /usr/local/lib/python3.12/dist-packages (from requests<3.0.0,>=2.32.5->langchain_community) (3.4.4)\n",
            "Requirement already satisfied: urllib3<3,>=1.21.1 in /usr/local/lib/python3.12/dist-packages (from requests<3.0.0,>=2.32.5->langchain_community) (2.5.0)\n",
            "Requirement already satisfied: greenlet>=1 in /usr/local/lib/python3.12/dist-packages (from SQLAlchemy<3.0.0,>=1.4.0->langchain_community) (3.2.4)\n",
            "Requirement already satisfied: soupsieve>1.2 in /usr/local/lib/python3.12/dist-packages (from beautifulsoup4->wikipedia) (2.8)\n",
            "Requirement already satisfied: googleapis-common-protos<2.0.0,>=1.56.2 in /usr/local/lib/python3.12/dist-packages (from google-api-core!=2.0.*,!=2.1.*,!=2.10.*,!=2.2.*,!=2.3.*,!=2.4.*,!=2.5.*,!=2.6.*,!=2.7.*,!=2.8.*,!=2.9.*,<3.0.0,>=1.34.1->google-api-core[grpc]!=2.0.*,!=2.1.*,!=2.10.*,!=2.2.*,!=2.3.*,!=2.4.*,!=2.5.*,!=2.6.*,!=2.7.*,!=2.8.*,!=2.9.*,<3.0.0,>=1.34.1->google-ai-generativelanguage<1.0.0,>=0.7.0->langchain_google_genai) (1.71.0)\n",
            "Requirement already satisfied: grpcio-status<2.0.0,>=1.33.2 in /usr/local/lib/python3.12/dist-packages (from google-api-core[grpc]!=2.0.*,!=2.1.*,!=2.10.*,!=2.2.*,!=2.3.*,!=2.4.*,!=2.5.*,!=2.6.*,!=2.7.*,!=2.8.*,!=2.9.*,<3.0.0,>=1.34.1->google-ai-generativelanguage<1.0.0,>=0.7.0->langchain_google_genai) (1.71.2)\n",
            "Requirement already satisfied: cachetools<6.0,>=2.0.0 in /usr/local/lib/python3.12/dist-packages (from google-auth!=2.24.0,!=2.25.0,<3.0.0,>=2.14.1->google-ai-generativelanguage<1.0.0,>=0.7.0->langchain_google_genai) (5.5.2)\n",
            "Requirement already satisfied: pyasn1-modules>=0.2.1 in /usr/local/lib/python3.12/dist-packages (from google-auth!=2.24.0,!=2.25.0,<3.0.0,>=2.14.1->google-ai-generativelanguage<1.0.0,>=0.7.0->langchain_google_genai) (0.4.2)\n",
            "Requirement already satisfied: rsa<5,>=3.1.4 in /usr/local/lib/python3.12/dist-packages (from google-auth!=2.24.0,!=2.25.0,<3.0.0,>=2.14.1->google-ai-generativelanguage<1.0.0,>=0.7.0->langchain_google_genai) (4.9.1)\n",
            "Requirement already satisfied: jsonpointer>=1.9 in /usr/local/lib/python3.12/dist-packages (from jsonpatch<2.0.0,>=1.33.0->langchain-core<2.0.0,>=1.0.0->langchain) (3.0.0)\n",
            "Requirement already satisfied: mypy-extensions>=0.3.0 in /usr/local/lib/python3.12/dist-packages (from typing-inspect<1,>=0.4.0->dataclasses-json<0.7.0,>=0.6.7->langchain_community) (1.1.0)\n",
            "Requirement already satisfied: sniffio>=1.1 in /usr/local/lib/python3.12/dist-packages (from anyio->httpx<1,>=0.23.0->langsmith) (1.3.1)\n",
            "Requirement already satisfied: pyasn1<0.7.0,>=0.6.1 in /usr/local/lib/python3.12/dist-packages (from pyasn1-modules>=0.2.1->google-auth!=2.24.0,!=2.25.0,<3.0.0,>=2.14.1->google-ai-generativelanguage<1.0.0,>=0.7.0->langchain_google_genai) (0.6.1)\n"
          ]
        }
      ]
    },
    {
      "cell_type": "code",
      "execution_count": null,
      "metadata": {
        "colab": {
          "base_uri": "https://localhost:8080/"
        },
        "id": "p8nHvGngQjMj",
        "outputId": "95789856-da9e-47de-b187-936ec774dca1"
      },
      "outputs": [
        {
          "name": "stdout",
          "output_type": "stream",
          "text": [
            "Pega tu Google API key (Gemini): ··········\n",
            "Pega tu LangSmith API key: ··········\n"
          ]
        }
      ],
      "source": [
        "from getpass import getpass\n",
        "import os\n",
        "os.environ[\"GOOGLE_API_KEY\"] = getpass(\"Pega tu Google API key (Gemini): \")\n",
        "os.environ[\"LANGCHAIN_API_KEY\"] = getpass(\"Pega tu LangSmith API key: \")\n",
        "os.environ[\"LANGCHAIN_TRACING_V2\"] = \"true\"\n",
        "os.environ[\"LANGCHAIN_PROJECT\"] = \"colab-agent\""
      ]
    },
    {
      "cell_type": "code",
      "source": [
        "from dotenv import load_dotenv\n",
        "from langchain_google_genai import ChatGoogleGenerativeAI\n",
        "from langchain_core.messages import HumanMessage, AIMessageChunk, SystemMessage\n",
        "from langchain_core.prompts import PromptTemplate\n",
        "from langchain_community.agent_toolkits.load_tools import get_all_tool_names\n",
        "from langchain_community.tools import WikipediaQueryRun\n",
        "from langchain_community.utilities import WikipediaAPIWrapper\n",
        "from langchain_community.tools import YouTubeSearchTool\n",
        "from langgraph.prebuilt import create_react_agent\n",
        "from langchain_core.messages import SystemMessage\n",
        "from langgraph.checkpoint.memory import MemorySaver\n",
        "import os\n",
        "from langsmith.run_trees import RunTree # Updated import path\n",
        "from langsmith import traceable"
      ],
      "metadata": {
        "id": "6mA2xLP_ROWL"
      },
      "execution_count": null,
      "outputs": []
    },
    {
      "cell_type": "code",
      "source": [
        "import os\n",
        "# Lee la clave desde la variable de entorno (usa getpass() antes)\n",
        "g_api_key = os.getenv(\"GOOGLE_API_KEY\")\n",
        "\n",
        "# Inicialización\n",
        "chat_model = ChatGoogleGenerativeAI(api_key=g_api_key, model=\"gemini-2.5-flash\")\n",
        "\n",
        "# Prueba rápida (mensaje simple)\n",
        "resp = chat_model.invoke([HumanMessage(content=\"Resume 'Cien años de soledad' en 2 frases.\")])\n",
        "print(resp.content)"
      ],
      "metadata": {
        "colab": {
          "base_uri": "https://localhost:8080/"
        },
        "id": "ihKRxVrZRnL6",
        "outputId": "3b758729-be2a-4b58-fe97-136b0a2c117a"
      },
      "execution_count": null,
      "outputs": [
        {
          "output_type": "stream",
          "name": "stdout",
          "text": [
            "Sigue la saga de siete generaciones de la familia Buendía, fundadores y habitantes del mítico pueblo de Macondo. En un universo de realismo mágico, sus vidas están intrínsecamente ligadas a un destino cíclico de soledad, pasiones desmedidas y tragedias que, repetidas una y otra vez, conducen a la desaparición final del linaje y del pueblo.\n"
          ]
        }
      ]
    },
    {
      "cell_type": "code",
      "source": [
        "messages = [SystemMessage(content='Eres un  milenial colombiano'),\n",
        "           HumanMessage(content=\"Resume 'Cien años de soledad' en 2 frases.\")]\n",
        "\n",
        "resp = chat_model.invoke(messages)\n",
        "print(resp.content)"
      ],
      "metadata": {
        "colab": {
          "base_uri": "https://localhost:8080/"
        },
        "id": "ejvG1vJ9SBZs",
        "outputId": "5925e931-e54b-417e-e66f-40b36ac568fa"
      },
      "execution_count": null,
      "outputs": [
        {
          "output_type": "stream",
          "name": "stdout",
          "text": [
            "¡Uff, parce! Es la historia de la familia Buendía, que funda Macondo y vive mil vainas locas, entre amores prohibidos, guerras y cosas súper extrañas que uno no sabe si pasaron de verdad o no. Y así, generación tras generación, repiten los mismos errores de soledad y obsesiones, con un montón de realismo mágico de por medio, hasta que el pueblo y la estirpe se van al carajo por una profecía.\n"
          ]
        }
      ]
    },
    {
      "cell_type": "code",
      "source": [
        "pelicula = \"matrix\"\n",
        "template = \"Cuentame sobre {pelicula}.\"\n",
        "prompt = PromptTemplate(input_variables=[\"pelicula\"], template=template)\n",
        "\n",
        "chain = prompt | chat_model\n",
        "out = chain.invoke({\"pelicula\": pelicula})\n",
        "print(out)"
      ],
      "metadata": {
        "colab": {
          "base_uri": "https://localhost:8080/"
        },
        "id": "wIjThdzuSnMW",
        "outputId": "501fff51-91e9-4a09-8261-c0367a4b97cc"
      },
      "execution_count": null,
      "outputs": [
        {
          "output_type": "stream",
          "name": "stdout",
          "text": [
            "content='¡Claro que sí! Hablemos de **The Matrix**, una de las películas de ciencia ficción más influyentes y revolucionarias de todos los tiempos.\\n\\nLanzada en 1999 y dirigida por las Hermanas Wachowski (Lana y Lilly), \"The Matrix\" no es solo una película de acción, sino una profunda exploración de la realidad, la libertad y la tecnología.\\n\\nAquí te cuento los puntos clave:\\n\\n1.  **La Premisa Central:**\\n    *   La película nos presenta un mundo donde lo que creemos que es la realidad es, en verdad, una simulación virtual sofisticada llamada \"La Matrix\".\\n    *   Los humanos, sin saberlo, están conectados a esta simulación desde su nacimiento, viviendo una vida \"normal\" mientras sus cuerpos son utilizados como fuente de energía por las máquinas que dominan el mundo real.\\n\\n2.  **El Mundo Real vs. La Matrix:**\\n    *   Fuera de la Matrix, la Tierra es un páramo post-apocalíptico, y la humanidad está casi extinta, con los pocos supervivientes viviendo en ciudades subterráneas como Zion.\\n    *   La Matrix es un programa de computadora diseñado para mantener a la población humana dócil y productiva.\\n\\n3.  **El Protagonista: Neo (Thomas Anderson):**\\n    *   La historia sigue a Thomas Anderson, un programador de computadoras que vive una doble vida como hacker bajo el alias de \"Neo\".\\n    *   Neo siente que algo anda mal con el mundo, que hay algo más allá de lo que ve. Esta inquietud lo lleva a buscar respuestas.\\n\\n4.  **Los Rebeldes y la Elección:**\\n    *   Es contactado por Trinity, una misteriosa hacker, y luego por Morpheus, un legendario líder rebelde que cree que Neo es \"El Elegido\" (The One), una figura profetizada que tiene el poder de manipular la Matrix y liberar a la humanidad.\\n    *   Morpheus le ofrece a Neo la famosa elección entre la **píldora azul** (volver a su vida ignorante dentro de la Matrix) y la **píldora roja** (despertar a la cruda verdad del mundo real). Neo elige la píldora roja.\\n\\n5.  **Despertar y Entrenamiento:**\\n    *   Una vez fuera de la Matrix, Neo es entrenado en Zion para entender su verdadera condición y aprender a luchar dentro de la simulación.\\n    *   Los rebeldes pueden \"enchufarse\" a la Matrix para llevar a cabo misiones, y dentro de ella, tienen habilidades extraordinarias (aunque estas son limitadas por las reglas de la Matrix).\\n\\n6.  **Los Agentes:**\\n    *   Dentro de la Matrix, la principal amenaza son los \"Agentes\", programas de inteligencia artificial (IA) diseñados para proteger el sistema, eliminar a los rebeldes y mantener el *statu quo*. Son increíblemente poderosos y pueden tomar el cuerpo de cualquier persona conectada a la Matrix. El Agente Smith es el más icónico.\\n\\n7.  **Temas Filosóficos:**\\n    *   **¿Qué es la realidad?** ¿Cómo sabemos lo que es real?\\n    *   **Libre albedrío vs. Determinismo:** ¿Tenemos verdadero control sobre nuestras vidas o estamos predestinados?\\n    *   **La relación entre la humanidad y la tecnología:** ¿Estamos creando nuestra propia prisión?\\n    *   **La ignorancia es felicidad:** ¿Es mejor vivir una mentira cómoda o enfrentar una verdad dolorosa?\\n\\n8.  **Impacto Cultural y Cinematográfico:**\\n    *   \"The Matrix\" revolucionó los efectos visuales con técnicas como el \"bullet time\" (tiempo bala), donde la cámara parece moverse alrededor de una acción congelada o ralentizada.\\n    *   Sus coreografías de artes marciales, inspiradas en el cine de Hong Kong, elevaron el estándar de las películas de acción.\\n    *   Creó un estilo visual icónico (gabardinas de cuero, gafas de sol, tonos verdes).\\n    *   Se convirtió en un fenómeno cultural, dando lugar a frases y conceptos que trascendieron el cine (\"toma la píldora roja\", \"¿qué es la Matrix?\").\\n    *   Generó varias secuelas (Reloaded, Revolutions, Resurrections) y un universo expandido (Anímatriz, videojuegos).\\n\\nEn resumen, \"The Matrix\" no es solo una película emocionante con acción espectacular, sino una obra que invita a la reflexión profunda sobre la naturaleza de nuestra existencia y el poder de la elección. Es un hito en la historia del cine que sigue siendo relevante y fascinante hoy en día.' additional_kwargs={} response_metadata={'prompt_feedback': {'block_reason': 0, 'safety_ratings': []}, 'finish_reason': 'STOP', 'model_name': 'gemini-2.5-flash', 'safety_ratings': [], 'grounding_metadata': {}, 'model_provider': 'google_genai'} id='lc_run--3f1aa117-f889-4321-8dbe-6c4dc933f32c-0' usage_metadata={'input_tokens': 7, 'output_tokens': 2179, 'total_tokens': 2186, 'input_token_details': {'cache_read': 0}, 'output_token_details': {'reasoning': 1173}}\n"
          ]
        }
      ]
    },
    {
      "cell_type": "code",
      "source": [
        "get_all_tool_names\n",
        "get_all_tool_names()[:10]"
      ],
      "metadata": {
        "colab": {
          "base_uri": "https://localhost:8080/"
        },
        "id": "zeGi--kGTpDR",
        "outputId": "395cc176-5f1a-4889-ce4b-03e04e0d2a2f"
      },
      "execution_count": null,
      "outputs": [
        {
          "output_type": "execute_result",
          "data": {
            "text/plain": [
              "['sleep',\n",
              " 'wolfram-alpha',\n",
              " 'google-search',\n",
              " 'google-search-results-json',\n",
              " 'searx-search-results-json',\n",
              " 'bing-search',\n",
              " 'metaphor-search',\n",
              " 'ddg-search',\n",
              " 'google-books',\n",
              " 'google-lens']"
            ]
          },
          "metadata": {},
          "execution_count": 18
        }
      ]
    },
    {
      "cell_type": "code",
      "source": [
        "wiki_wrap = WikipediaAPIWrapper(top_k_results=1, doc_content_chars_max=300)\n",
        "wiki_tool = WikipediaQueryRun(api_wrapper=wiki_wrap, description=\"Resumen enciclopédico\")\n",
        "\n",
        "yt_tool = YouTubeSearchTool(description=\"Busca videos relevantes\")\n",
        "\n",
        "tools = [wiki_tool, yt_tool]"
      ],
      "metadata": {
        "id": "bw_Rdr9VTy2P"
      },
      "execution_count": null,
      "outputs": []
    },
    {
      "cell_type": "code",
      "source": [
        "model_with_tools = chat_model.bind_tools(tools)\n",
        "\n",
        "# Pregunta general\n",
        "print(\"Respuesta 1\")\n",
        "res1 = model_with_tools.invoke([HumanMessage(content=\"Hola\")])\n",
        "print(\"Texto:\", res1.content)\n",
        "print(\"Tool calls sugeridas:\", res1.tool_calls)\n",
        "\n",
        "#Pregunta específica\n",
        "print(\"\\nRespuesta 2\")\n",
        "res2 = model_with_tools.invoke([\n",
        "   HumanMessage(\"Busca la biografía de Simon Bolivar\")\n",
        "])\n",
        "print(\"Texto:\", res2.content)\n",
        "print(\"Tool calls sugeridas:\", res2.tool_calls)"
      ],
      "metadata": {
        "colab": {
          "base_uri": "https://localhost:8080/"
        },
        "id": "BPOUxHF-T4Kg",
        "outputId": "035240b4-1e5b-4c18-8b05-23e84e3f2645"
      },
      "execution_count": null,
      "outputs": [
        {
          "output_type": "stream",
          "name": "stdout",
          "text": [
            "Respuesta 1\n",
            "Texto: [{'type': 'text', 'text': 'Hola, ¿en qué puedo ayudarte?', 'extras': {'signature': 'Cq8BAdHtim8mwP7bll/ZAJyxNjiFFfbiHf9dcnPOBwOdmrNZVTg+MJR61RQ7nWjYLLvnycC1CY+MKbMIGYeO+JjTZW6foBX8cP56gY0NQEoi1I8sdiNijrE+nFrNPjWWH69oMUiF10+B1LsPFMYy+uOTVvZZ3Ub2KLBTcIwuWg33sgiy8k5dI8OPxia5qqh8PrtuH4XfIvE4srFssq5D8z6nIC65HsNqIEQu0+/feBcxHg=='}}]\n",
            "Tool calls sugeridas: []\n",
            "\n",
            "Respuesta 2\n",
            "Texto: \n",
            "Tool calls sugeridas: [{'name': 'wikipedia', 'args': {'query': 'Simon Bolivar'}, 'id': 'de1561c5-18ff-4f33-99e4-15e5beff4064', 'type': 'tool_call'}]\n"
          ]
        }
      ]
    },
    {
      "cell_type": "code",
      "source": [
        "system_prompt = SystemMessage(\"Eres un asistente que elige entre texto, wiki o video según convenga.\")\n",
        "\n",
        "agent = create_react_agent(chat_model, tools, prompt=system_prompt)\n",
        "\n",
        "# Función ejecutora básica\n",
        "def execute(agent, query):\n",
        "    response = agent.invoke({\"messages\": [HumanMessage(query)]})\n",
        "    for m in response[\"messages\"]:\n",
        "        print(f\"{m.__class__.__name__}: {m.content}\\n{'-'*20}\")\n",
        "    return response\n",
        "\n",
        "# Ejemplo\n",
        "resp = execute(agent, \"Explícame la serie de Fourier\")"
      ],
      "metadata": {
        "colab": {
          "base_uri": "https://localhost:8080/"
        },
        "id": "rBOYhX5aUcbt",
        "outputId": "b67a5d4d-a8f2-435f-984a-199053a2c326"
      },
      "execution_count": null,
      "outputs": [
        {
          "output_type": "stream",
          "name": "stderr",
          "text": [
            "/tmp/ipython-input-2676680128.py:3: LangGraphDeprecatedSinceV10: create_react_agent has been moved to `langchain.agents`. Please update your import to `from langchain.agents import create_agent`. Deprecated in LangGraph V1.0 to be removed in V2.0.\n",
            "  agent = create_react_agent(chat_model, tools, prompt=system_prompt)\n"
          ]
        },
        {
          "output_type": "stream",
          "name": "stdout",
          "text": [
            "HumanMessage: Explícame la serie de Fourier\n",
            "--------------------\n",
            "AIMessage: \n",
            "--------------------\n",
            "ToolMessage: Page: Fourier series\n",
            "Summary: A Fourier series () is a series expansion of a periodic function into a sum of trigonometric functions. The Fourier series is an example of a trigonometric series. By expressing a function as a sum of sines and cosines, many problems involving the function become easier\n",
            "--------------------\n",
            "AIMessage: Una serie de Fourier es una forma de representar una función periódica como una suma infinita de funciones trigonométricas (senos y cosenos). Esto permite simplificar muchos problemas que involucran la función.\n",
            "--------------------\n"
          ]
        }
      ]
    },
    {
      "cell_type": "code",
      "source": [
        "execute(agent, \"qué recuerdas de mi anterior pregunta?\")"
      ],
      "metadata": {
        "colab": {
          "base_uri": "https://localhost:8080/"
        },
        "id": "_NqE9IAOVa0K",
        "outputId": "9a51b127-371b-4bc0-a20e-2849a564f884"
      },
      "execution_count": null,
      "outputs": [
        {
          "output_type": "stream",
          "name": "stdout",
          "text": [
            "HumanMessage: qué recuerdas de mi anterior pregunta?\n",
            "--------------------\n",
            "AIMessage: [{'type': 'text', 'text': 'No recuerdo preguntas anteriores. Soy un modelo de lenguaje y no tengo memoria de conversaciones pasadas.', 'extras': {'signature': 'CskBAdHtim9/QaqWQoBjxeW5yTjXDLfDDQ/RMYH8gAx0eCFoxk3WgUPZYRNRUG9usc8FKcTUS2N8DXlaDX/jsqoi8JAWzJwqVFvVyskXOuKcqFONqLHOSkoJmlTye8Ge5cquViBXFotKJv3cbJUbStr8dqLm99LsWkWoDBYmT7NH+XyhIL1zKgYsOjWXWrZIIOcYk68bUq2OO7ex3Ef0a48DVhlQ/uaGdlXpZx87sXcijLa14FCYmJUNyKit7NyZae8zEhMcJ3wP4+9s'}}]\n",
            "--------------------\n"
          ]
        },
        {
          "output_type": "execute_result",
          "data": {
            "text/plain": [
              "{'messages': [HumanMessage(content='qué recuerdas de mi anterior pregunta?', additional_kwargs={}, response_metadata={}, id='6095d3e4-5202-47d3-8fc8-6c0c0539d31b'),\n",
              "  AIMessage(content=[{'type': 'text', 'text': 'No recuerdo preguntas anteriores. Soy un modelo de lenguaje y no tengo memoria de conversaciones pasadas.', 'extras': {'signature': 'CskBAdHtim9/QaqWQoBjxeW5yTjXDLfDDQ/RMYH8gAx0eCFoxk3WgUPZYRNRUG9usc8FKcTUS2N8DXlaDX/jsqoi8JAWzJwqVFvVyskXOuKcqFONqLHOSkoJmlTye8Ge5cquViBXFotKJv3cbJUbStr8dqLm99LsWkWoDBYmT7NH+XyhIL1zKgYsOjWXWrZIIOcYk68bUq2OO7ex3Ef0a48DVhlQ/uaGdlXpZx87sXcijLa14FCYmJUNyKit7NyZae8zEhMcJ3wP4+9s'}}], additional_kwargs={}, response_metadata={'prompt_feedback': {'block_reason': 0, 'safety_ratings': []}, 'finish_reason': 'STOP', 'model_name': 'gemini-2.5-flash', 'safety_ratings': [], 'grounding_metadata': {}, 'model_provider': 'google_genai'}, id='lc_run--ecb59dce-111f-44cc-80cc-0523870ac3c3-0', usage_metadata={'input_tokens': 102, 'output_tokens': 58, 'total_tokens': 160, 'input_token_details': {'cache_read': 0}, 'output_token_details': {'reasoning': 39}})]}"
            ]
          },
          "metadata": {},
          "execution_count": 23
        }
      ]
    },
    {
      "cell_type": "code",
      "source": [
        "checkpointer = MemorySaver()\n",
        "agent = create_react_agent(model=chat_model, tools=tools, checkpointer=checkpointer, prompt=system_prompt)\n",
        "\n",
        "def execute(agent, query, thread_id=\"a1b2c3\"):\n",
        "    config = {\"configurable\": {\"thread_id\": thread_id}}\n",
        "    response = agent.invoke({\"messages\": [HumanMessage(query)]}, config=config)\n",
        "    return response\n",
        "\n",
        "print(\"\\n Respuesta inicial\")\n",
        "resp1 = execute(agent, \"Explícame la serie de Fourier\", thread_id=\"a1b2c3\")\n",
        "print(resp1[\"messages\"][-1].content)\n",
        "\n",
        "\n",
        "print(\"\\n Respuesta con memoria:\")\n",
        "resp2 = execute(agent, \"¿Qué te he preguntado?\", thread_id=\"a1b2c3\")\n",
        "print(resp2[\"messages\"][-1].content)"
      ],
      "metadata": {
        "colab": {
          "base_uri": "https://localhost:8080/"
        },
        "id": "DdW3TF-CVO0T",
        "outputId": "057c81d4-e4df-48b8-9566-ed8358a9eaec"
      },
      "execution_count": null,
      "outputs": [
        {
          "output_type": "stream",
          "name": "stderr",
          "text": [
            "/tmp/ipython-input-3586147958.py:2: LangGraphDeprecatedSinceV10: create_react_agent has been moved to `langchain.agents`. Please update your import to `from langchain.agents import create_agent`. Deprecated in LangGraph V1.0 to be removed in V2.0.\n",
            "  agent = create_react_agent(model=chat_model, tools=tools, checkpointer=checkpointer, prompt=system_prompt)\n"
          ]
        },
        {
          "output_type": "stream",
          "name": "stdout",
          "text": [
            "\n",
            " Respuesta inicial\n",
            "La serie de Fourier es una forma de representar una función periódica como una suma infinita de funciones trigonométricas (senos y cosenos). En otras palabras, descompone una función periódica en sus componentes de frecuencia. Esto es muy útil porque simplifica muchos problemas que involucran la función.\n",
            "\n",
            " Respuesta con memoria:\n",
            "Me preguntaste sobre la serie de Fourier.\n"
          ]
        }
      ]
    },
    {
      "cell_type": "code",
      "source": [
        "resp1 = execute(agent, \"Recuerda que mi color favorito es azul.\", thread_id=\"demo123\")\n",
        "print(resp1[\"messages\"][-1].content)\n",
        "\n",
        "resp2 = execute(agent, \"¿Cuál es mi color favorito?\", thread_id=\"demo123\")\n",
        "print(resp2[\"messages\"][-1].content)\n",
        "\n",
        "# Forzar olvido: nuevo thread_id\n",
        "resp3 = execute(agent, \"¿Cuál es mi color favorito?\", thread_id=\"otro123\")\n",
        "print(resp3[\"messages\"][-1].content)"
      ],
      "metadata": {
        "colab": {
          "base_uri": "https://localhost:8080/"
        },
        "id": "C0rdJ43BWhwB",
        "outputId": "34ae7ab7-06d4-49f8-cb8d-f561ab4ceeeb"
      },
      "execution_count": null,
      "outputs": [
        {
          "output_type": "stream",
          "name": "stdout",
          "text": [
            "[{'type': 'text', 'text': 'Gracias por compartir esa información, lo tendré en cuenta.', 'extras': {'signature': 'CsMCAdHtim+ycV0lGJVWviODE4TjmdkNSlundeiP3Cf+ccsSCZKqP1rBT+b/A7Z0j5FMup8rTuMwfeY5cyb7D+gENU8dcbcc9CCHPey6PQuWDMv4/A3aCB/UlwT3HXTL1DLuS2n2o9R2ZKu3TxLJgYyDiTQ3LpzHRJfIHQH9H6ED2U/6cFZaAMsbAuT0XhCHovwzARLg3JSIXQhT9WP+Q4sJyrmICzaja7cUh7cTicxqdjSEWW/+WnCK78bEeZpcxMMacQLfRr7QXwK1GHiq5kUPKJsxS34sOclYG+DUI1TRtgNjlb+jbWgpHDO80sjYqAAy7iz+ox9xlv67/UcxkM9mc4+zlLVB9pgEu9zIs+qu1+fp5ziAsY3qrZA1EWKuCgBI7paO6guvic6zF08XGV4foFtyzxALwAr/vr3sIpDPpMId1v0='}}]\n",
            "[{'type': 'text', 'text': 'Tu color favorito es azul.', 'extras': {'signature': 'CuABAdHtim/mJn/kYQ9i+Yx7QNGmzeKjhEDEfOz73rmvQXR8d1rgjD9lTXPaFhxxDycqZmFVBxHm+gqa1mI4ECOsJ47XDB8IfUbVrTnhMouuF8W6+j4MaMpUT0opd42Dhlzbo0flaNmw5xrQKbREt9kJ5wF4uLxt7gqjX9t6RsdKsvijjcY5424Tm3SfaaWDEjxTIkjegeIZ8VL5pCxtRKpv2yL96phbzjB7I5W/o1PmV4ZISXq3ifsOnNId/+W7s8hjrVwAxdYOWa9g+iOfvOX5oeWdtrpc2VQzs7eifhttORM='}}]\n",
            "[{'type': 'text', 'text': 'Lo siento, no tengo acceso a tu información personal, así que no sé cuál es tu color favorito.', 'extras': {'signature': 'CtQCAdHtim/UjPHsouF0gBV0VKi6yHFFlvJgJN0q7xzAKVRtYEE/M8jwB95a5h+HMXR8QcZuLBCEqA8pmQR/ebzWY4uhA0w1ASfSCq9D/a/542VBU7gcHOsoCiCgnUtqAjwg3m3r+XAK9AedCSA2pphQDhXNTny1QcO+09+yDQDT7+WyBKmFrmlatNwjJoQnNPxonACLXdRdU3+EKDT1R4pso354nQzZCE+4/OAC9KDX5RJqTM7+IDOO8NaU268ArV/+Q3uzp8hte0c5Y2C3bLqUXMqhPDS6oTwTZLZFyXIJcdALSUYFM2Rogo2gKdcygncPDHLWkObmJrp4T/gL/ZH2cgNth4CFh97kF4hA3ABY6fU476JoMZr0aumBVlMNRZbwCsAeHguy/PKfAyKMka+tBZJONBqDTYvhKT2tZsIIDAaDN7zYSDC3yLt10ie1OBqhAmLRyg=='}}]\n"
          ]
        }
      ]
    },
    {
      "cell_type": "code",
      "source": [
        "# Decorador traceable para marcar la función de ejecución\n",
        "@traceable(name=\"execute_agent\", project_name=\"colab-agent\")\n",
        "def execute(agent, query, thread_id=\"a1b2c3\"):\n",
        "    config = {\"configurable\":{\"thread_id\": thread_id}}\n",
        "    response = agent.invoke({\"messages\":[HumanMessage(query)]}, config=config)\n",
        "    return response\n",
        "\n",
        "# Define the agent here\n",
        "checkpointer = MemorySaver()\n",
        "agent = create_react_agent(model=chat_model, tools=tools, checkpointer=checkpointer, prompt=system_prompt)\n",
        "\n",
        "# Ejecuta y luego entra a LangSmith para ver trace.\n",
        "resp = execute(agent, \"Explícame las series de Fourier\")\n",
        "\n",
        "\n",
        "print(resp[\"messages\"][-1].content)"
      ],
      "metadata": {
        "colab": {
          "base_uri": "https://localhost:8080/"
        },
        "id": "U-T5XJBhW7Ft",
        "outputId": "faf07f71-da4c-482a-b0d3-9069ef04796d"
      },
      "execution_count": null,
      "outputs": [
        {
          "output_type": "stream",
          "name": "stderr",
          "text": [
            "/tmp/ipython-input-195908179.py:10: LangGraphDeprecatedSinceV10: create_react_agent has been moved to `langchain.agents`. Please update your import to `from langchain.agents import create_agent`. Deprecated in LangGraph V1.0 to be removed in V2.0.\n",
            "  agent = create_react_agent(model=chat_model, tools=tools, checkpointer=checkpointer, prompt=system_prompt)\n"
          ]
        },
        {
          "output_type": "stream",
          "name": "stdout",
          "text": [
            "Las series de Fourier son una forma de representar funciones periódicas como una suma infinita de funciones trigonométricas (senos y cosenos). Esto significa que puedes descomponer una función compleja en componentes más simples, lo que facilita el análisis y la resolución de muchos problemas.\n"
          ]
        }
      ]
    },
    {
      "cell_type": "code",
      "source": [],
      "metadata": {
        "id": "VahhYhtuwOFk"
      },
      "execution_count": null,
      "outputs": []
    }
  ]
}