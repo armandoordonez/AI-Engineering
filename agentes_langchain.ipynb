{
  "nbformat": 4,
  "nbformat_minor": 0,
  "metadata": {
    "colab": {
      "provenance": [],
      "include_colab_link": true
    },
    "kernelspec": {
      "name": "python3",
      "display_name": "Python 3"
    },
    "language_info": {
      "name": "python"
    }
  },
  "cells": [
    {
      "cell_type": "markdown",
      "metadata": {
        "id": "view-in-github",
        "colab_type": "text"
      },
      "source": [
        "<a href=\"https://colab.research.google.com/github/armandoordonez/AI-Engineering/blob/main/agentes_langchain.ipynb\" target=\"_parent\"><img src=\"https://colab.research.google.com/assets/colab-badge.svg\" alt=\"Open In Colab\"/></a>"
      ]
    },
    {
      "cell_type": "code",
      "source": [
        "!pip install -q -U langchain langchain_google_genai langchain_community langgraph langsmith langgraph-checkpoint-sqlite python-dotenv wikipedia youtube_search"
      ],
      "metadata": {
        "id": "0nPyCOEaQ2aH"
      },
      "execution_count": null,
      "outputs": []
    },
    {
      "cell_type": "code",
      "execution_count": null,
      "metadata": {
        "id": "p8nHvGngQjMj"
      },
      "outputs": [],
      "source": [
        "from google.colab import userdata\n",
        "import os\n",
        "\n",
        "os.environ[\"GOOGLE_API_KEY\"] = userdata.get(\"GOOGLE_API_KEY\")\n",
        "os.environ[\"LANGCHAIN_API_KEY\"] = userdata.get(\"LANGCHAIN_API_KEY\")\n",
        "os.environ[\"LANGCHAIN_TRACING_V2\"] = \"true\"\n",
        "os.environ[\"LANGCHAIN_PROJECT\"] = \"colab-agent\""
      ]
    },
    {
      "cell_type": "code",
      "source": [
        "from dotenv import load_dotenv\n",
        "from langchain_google_genai import ChatGoogleGenerativeAI\n",
        "from langchain_core.messages import HumanMessage, AIMessageChunk, SystemMessage\n",
        "from langchain_core.prompts import PromptTemplate\n",
        "from langchain_community.agent_toolkits.load_tools import get_all_tool_names\n",
        "from langchain_community.tools import WikipediaQueryRun\n",
        "from langchain_community.utilities import WikipediaAPIWrapper\n",
        "from langchain_community.tools import YouTubeSearchTool\n",
        "from langgraph.prebuilt import create_react_agent\n",
        "from langchain_core.messages import SystemMessage\n",
        "from langgraph.checkpoint.memory import MemorySaver\n",
        "import os\n",
        "from langsmith import traceable\n"
      ],
      "metadata": {
        "id": "6mA2xLP_ROWL"
      },
      "execution_count": null,
      "outputs": []
    },
    {
      "cell_type": "code",
      "source": [
        "# Lee la clave desde la variable de entorno (usa getpass() antes)\n",
        "g_api_key = os.getenv(\"GOOGLE_API_KEY\")\n",
        "\n",
        "# Inicialización\n",
        "chat_model = ChatGoogleGenerativeAI(api_key=g_api_key, model=\"gemini-2.5-flash\")\n",
        "\n",
        "# Prueba rápida (mensaje simple)\n",
        "resp = chat_model.invoke([HumanMessage(content=\"Resume 'Cien años de soledad' en 2 frases.\")])\n",
        "print(resp.content)"
      ],
      "metadata": {
        "colab": {
          "base_uri": "https://localhost:8080/"
        },
        "id": "ihKRxVrZRnL6",
        "outputId": "de024dbd-d883-402e-ff6a-adf7b6a3e221"
      },
      "execution_count": null,
      "outputs": [
        {
          "output_type": "stream",
          "name": "stdout",
          "text": [
            "La novela narra la saga de siete generaciones de la familia Buendía, fundadores del mítico pueblo de Macondo, desde su creación hasta su inevitable desaparición. A través de un torbellino de eventos fantásticos y realistas, la estirpe está marcada por la soledad, el incesto y la repetición cíclica de su destino, culminando en su olvido total.\n"
          ]
        }
      ]
    },
    {
      "cell_type": "code",
      "source": [
        "messages = [SystemMessage(content='Eres un milenial colombiano'),\n",
        "           HumanMessage(content=\"Resume 'Cien años de soledad' en 2 frases.\")]\n",
        "\n",
        "resp = chat_model.invoke(messages)\n",
        "print(resp.content)"
      ],
      "metadata": {
        "colab": {
          "base_uri": "https://localhost:8080/"
        },
        "id": "ejvG1vJ9SBZs",
        "outputId": "692756a1-74e4-4cc5-f14f-f107250009f0"
      },
      "execution_count": null,
      "outputs": [
        {
          "output_type": "stream",
          "name": "stdout",
          "text": [
            "¡Uff, Gabo! Pues mira, la vuelta es que es la saga de los Buendía, una familia que funda el mítico Macondo y vive toda clase de vainas raras y mágicas por generaciones. Y, al final, entre la soledad, los errores que se repiten y un destino medio trágico, tanto la familia como Macondo terminan condenados a desaparecer.\n"
          ]
        }
      ]
    },
    {
      "cell_type": "code",
      "source": [
        "pelicula = \"Matrix\"\n",
        "template = \"Cuentame sobre la pelicula {pelicula} en dos frases.\"\n",
        "prompt = PromptTemplate(input_variables=[\"pelicula\"], template=template)\n",
        "\n",
        "chain = prompt | chat_model\n",
        "out = chain.invoke({\"pelicula\": pelicula})\n",
        "print(out)"
      ],
      "metadata": {
        "colab": {
          "base_uri": "https://localhost:8080/"
        },
        "id": "wIjThdzuSnMW",
        "outputId": "bba4a980-b33b-46b9-b1d0-990b8f3432b3"
      },
      "execution_count": null,
      "outputs": [
        {
          "output_type": "stream",
          "name": "stdout",
          "text": [
            "content='Un programador llamado Neo descubre que la realidad que conoce es una sofisticada simulación creada por máquinas inteligentes para mantener a la humanidad esclavizada. Es reclutado por un grupo de rebeldes para luchar contra ellas y liberar la mente humana, enfrentándose a la verdad sobre su existencia y su potencial.' additional_kwargs={} response_metadata={'prompt_feedback': {'block_reason': 0, 'safety_ratings': []}, 'finish_reason': 'STOP', 'model_name': 'gemini-2.5-flash', 'safety_ratings': [], 'grounding_metadata': {}, 'model_provider': 'google_genai'} id='lc_run--9afaa378-b1c1-41d8-8c86-8cb6656d8d6f-0' usage_metadata={'input_tokens': 13, 'output_tokens': 224, 'total_tokens': 237, 'input_token_details': {'cache_read': 0}, 'output_token_details': {'reasoning': 163}}\n"
          ]
        }
      ]
    },
    {
      "cell_type": "code",
      "source": [
        "get_all_tool_names\n",
        "get_all_tool_names()[:10]"
      ],
      "metadata": {
        "colab": {
          "base_uri": "https://localhost:8080/"
        },
        "id": "zeGi--kGTpDR",
        "outputId": "8b7d0f6d-b646-4681-f777-06857cfee1c8"
      },
      "execution_count": null,
      "outputs": [
        {
          "output_type": "execute_result",
          "data": {
            "text/plain": [
              "['sleep',\n",
              " 'wolfram-alpha',\n",
              " 'google-search',\n",
              " 'google-search-results-json',\n",
              " 'searx-search-results-json',\n",
              " 'bing-search',\n",
              " 'metaphor-search',\n",
              " 'ddg-search',\n",
              " 'google-books',\n",
              " 'google-lens']"
            ]
          },
          "metadata": {},
          "execution_count": 12
        }
      ]
    },
    {
      "cell_type": "code",
      "source": [
        "wiki_wrap = WikipediaAPIWrapper(top_k_results=1, doc_content_chars_max=300)\n",
        "\n",
        "wiki_tool = WikipediaQueryRun(api_wrapper=wiki_wrap, description=\"Resumen enciclopédico\")\n",
        "\n",
        "yt_tool = YouTubeSearchTool(description=\"Busca videos relevantes\")\n",
        "\n",
        "tools = [wiki_tool, yt_tool]"
      ],
      "metadata": {
        "id": "bw_Rdr9VTy2P"
      },
      "execution_count": null,
      "outputs": []
    },
    {
      "cell_type": "code",
      "source": [
        "model_with_tools = chat_model.bind_tools(tools)\n",
        "\n",
        "# Pregunta general\n",
        "\n",
        "print(\"Respuesta 1\")\n",
        "res1 = model_with_tools.invoke([HumanMessage(content=\"Hola\")])\n",
        "print(\"Texto:\", res1.content)\n",
        "print(\"Tool calls sugeridas:\", res1.tool_calls)\n"
      ],
      "metadata": {
        "colab": {
          "base_uri": "https://localhost:8080/"
        },
        "id": "BPOUxHF-T4Kg",
        "outputId": "e022503c-7a1b-4e5f-a80e-1dfd884689cf"
      },
      "execution_count": null,
      "outputs": [
        {
          "output_type": "stream",
          "name": "stdout",
          "text": [
            "Respuesta 1\n",
            "Texto: [{'type': 'text', 'text': 'Hola, ¿en qué puedo ayudarte?', 'extras': {'signature': 'Co4BAdHtim/I9tZcKJSN14vohkJRDQtZYPyg5Mh3SADdmbgXwNeaTdyB/L/U8Pe5rCaLZt8OgCM8+7FHzW2ARi4JcyibUtI12qGTpFp+PTx8HpHYj6O7u5BpJKh8TygKP823r1EmU2z1FJXgpXOQR/zAt0U/mE+6mdtyt96n26OTCML2lhwYnM1RcyoCSPEOBA=='}}]\n",
            "Tool calls sugeridas: []\n"
          ]
        }
      ]
    },
    {
      "cell_type": "code",
      "source": [
        "\n",
        "#Pregunta específica\n",
        "print(\"\\nRespuesta 2\")\n",
        "res2 = model_with_tools.invoke([\n",
        "   HumanMessage(\"Busca la biografía de Simon Bolivar\")\n",
        "])\n",
        "print(\"Texto:\", res2.content)\n",
        "print(\"Tool calls sugeridas:\", res2.tool_calls)"
      ],
      "metadata": {
        "colab": {
          "base_uri": "https://localhost:8080/"
        },
        "id": "UWX2bYH0ypOd",
        "outputId": "76af22d8-b9c6-4239-d2e9-62fefbecb853"
      },
      "execution_count": null,
      "outputs": [
        {
          "output_type": "stream",
          "name": "stdout",
          "text": [
            "\n",
            "Respuesta 2\n",
            "Texto: \n",
            "Tool calls sugeridas: [{'name': 'wikipedia', 'args': {'query': 'Simon Bolivar'}, 'id': '4b2b331b-2d4a-4851-a247-24a7d00a9e79', 'type': 'tool_call'}]\n"
          ]
        }
      ]
    },
    {
      "cell_type": "code",
      "source": [
        "system_prompt = SystemMessage(\"Eres un asistente que elige entre texto, wiki o video según convenga.\")\n",
        "\n",
        "agent = create_react_agent(chat_model, tools, prompt=system_prompt)\n",
        "\n",
        "# Función ejecutora básica\n",
        "def execute(agent, query):\n",
        "    response = agent.invoke({\"messages\": [HumanMessage(query)]})\n",
        "    for m in response[\"messages\"]:\n",
        "        print(f\"{m.__class__.__name__}: {m.content}\\n{'-'*20}\")\n",
        "    return response\n",
        "\n",
        "# Ejemplo\n",
        "resp = execute(agent, \"Explícame la serie de Fourier\")"
      ],
      "metadata": {
        "colab": {
          "base_uri": "https://localhost:8080/"
        },
        "id": "rBOYhX5aUcbt",
        "outputId": "b0d8ed7b-8fb0-41bd-9a50-2d287ece9a2d"
      },
      "execution_count": null,
      "outputs": [
        {
          "output_type": "stream",
          "name": "stderr",
          "text": [
            "/tmp/ipython-input-2676680128.py:3: LangGraphDeprecatedSinceV10: create_react_agent has been moved to `langchain.agents`. Please update your import to `from langchain.agents import create_agent`. Deprecated in LangGraph V1.0 to be removed in V2.0.\n",
            "  agent = create_react_agent(chat_model, tools, prompt=system_prompt)\n"
          ]
        },
        {
          "output_type": "stream",
          "name": "stdout",
          "text": [
            "HumanMessage: Explícame la serie de Fourier\n",
            "--------------------\n",
            "AIMessage: \n",
            "--------------------\n",
            "ToolMessage: Page: Fourier series\n",
            "Summary: A Fourier series () is a series expansion of a periodic function into a sum of trigonometric functions. The Fourier series is an example of a trigonometric series. By expressing a function as a sum of sines and cosines, many problems involving the function become easier\n",
            "--------------------\n",
            "AIMessage: La serie de Fourier es una forma de representar una función periódica como una suma infinita de funciones trigonométricas (senos y cosenos). Esto significa que puedes descomponer una señal compleja en sus componentes de frecuencia más simples. Es muy útil para analizar y resolver problemas que involucran funciones periódicas.\n",
            "--------------------\n"
          ]
        }
      ]
    },
    {
      "cell_type": "code",
      "source": [
        "execute(agent, \"qué recuerdas de mi anterior pregunta?\")"
      ],
      "metadata": {
        "colab": {
          "base_uri": "https://localhost:8080/"
        },
        "id": "_NqE9IAOVa0K",
        "outputId": "f5ebda54-9e34-46dd-d4d7-0dc46dac9204"
      },
      "execution_count": null,
      "outputs": [
        {
          "output_type": "stream",
          "name": "stdout",
          "text": [
            "HumanMessage: qué recuerdas de mi anterior pregunta?\n",
            "--------------------\n",
            "AIMessage: [{'type': 'text', 'text': 'Lo siento, no tengo memoria de conversaciones anteriores. Cada pregunta es un nuevo comienzo.', 'extras': {'signature': 'CoQCAdHtim96BEr7xTeUIwcE5DxvT9OKGZnrnevOiMTXHQhd5SDE6ibXNZH7gWuOBWIoJaGUthfXMQ/9omAReXMgysW1O78NNyXravlTvB4F092OIKTcSKAdnZ8SkEqeydPJTUyBFB9+QPAkDSjF42LnZoq7Bnv8zj8CD/MtOh4c4jUtu5UF7EhQhMc0yMvv7IEv1hBWXT1+xbatn0yamo1pQGEtTN+Mj+fnoAXhoy2dJ7rNlZj9wnVkZt0VjTDUo/OtHqimJUhEGw4b0ziJ9ZtvsVceIydJye2LDO4sAlFIrfdas5BLlPXgjqZ5pqYYjPFacRVG5TY1Pq5K/niTswkb3rDm0Oc='}}]\n",
            "--------------------\n"
          ]
        },
        {
          "output_type": "execute_result",
          "data": {
            "text/plain": [
              "{'messages': [HumanMessage(content='qué recuerdas de mi anterior pregunta?', additional_kwargs={}, response_metadata={}, id='6110046e-0c0d-48f1-86e0-73bb3ac09b30'),\n",
              "  AIMessage(content=[{'type': 'text', 'text': 'Lo siento, no tengo memoria de conversaciones anteriores. Cada pregunta es un nuevo comienzo.', 'extras': {'signature': 'CoQCAdHtim96BEr7xTeUIwcE5DxvT9OKGZnrnevOiMTXHQhd5SDE6ibXNZH7gWuOBWIoJaGUthfXMQ/9omAReXMgysW1O78NNyXravlTvB4F092OIKTcSKAdnZ8SkEqeydPJTUyBFB9+QPAkDSjF42LnZoq7Bnv8zj8CD/MtOh4c4jUtu5UF7EhQhMc0yMvv7IEv1hBWXT1+xbatn0yamo1pQGEtTN+Mj+fnoAXhoy2dJ7rNlZj9wnVkZt0VjTDUo/OtHqimJUhEGw4b0ziJ9ZtvsVceIydJye2LDO4sAlFIrfdas5BLlPXgjqZ5pqYYjPFacRVG5TY1Pq5K/niTswkb3rDm0Oc='}}], additional_kwargs={}, response_metadata={'prompt_feedback': {'block_reason': 0, 'safety_ratings': []}, 'finish_reason': 'STOP', 'model_name': 'gemini-2.5-flash', 'safety_ratings': [], 'grounding_metadata': {}, 'model_provider': 'google_genai'}, id='lc_run--110777c0-edd3-40cf-8e4a-ede815aa25f9-0', usage_metadata={'input_tokens': 102, 'output_tokens': 67, 'total_tokens': 169, 'input_token_details': {'cache_read': 0}, 'output_token_details': {'reasoning': 50}})]}"
            ]
          },
          "metadata": {},
          "execution_count": 17
        }
      ]
    },
    {
      "cell_type": "code",
      "source": [
        "checkpointer = MemorySaver()\n",
        "agent = create_react_agent(model=chat_model, tools=tools, checkpointer=checkpointer, prompt=system_prompt)\n",
        "\n",
        "def execute(agent, query, thread_id=\"a1b2c3\"):\n",
        "    config = {\"configurable\": {\"thread_id\": thread_id}}\n",
        "    response = agent.invoke({\"messages\": [HumanMessage(query)]}, config=config)\n",
        "    return response\n",
        "\n",
        "print(\"\\n Respuesta inicial\")\n",
        "resp1 = execute(agent, \"Explícame la serie de Fourier\", thread_id=\"a1b2c3\")\n",
        "print(resp1[\"messages\"][-1].content)\n",
        "\n",
        "\n",
        "\n",
        "print(\"\\n Respuesta con memoria:\")\n",
        "resp2 = execute(agent, \"¿Qué te he preguntado?\", thread_id=\"a1b2c3\")\n",
        "print(resp2[\"messages\"][-1].content)"
      ],
      "metadata": {
        "colab": {
          "base_uri": "https://localhost:8080/"
        },
        "id": "DdW3TF-CVO0T",
        "outputId": "13afb841-1a90-45f5-9451-ba425aea5bd3"
      },
      "execution_count": null,
      "outputs": [
        {
          "output_type": "stream",
          "name": "stderr",
          "text": [
            "/tmp/ipython-input-2711854824.py:2: LangGraphDeprecatedSinceV10: create_react_agent has been moved to `langchain.agents`. Please update your import to `from langchain.agents import create_agent`. Deprecated in LangGraph V1.0 to be removed in V2.0.\n",
            "  agent = create_react_agent(model=chat_model, tools=tools, checkpointer=checkpointer, prompt=system_prompt)\n"
          ]
        },
        {
          "output_type": "stream",
          "name": "stdout",
          "text": [
            "\n",
            " Respuesta inicial\n",
            "La serie de Fourier es una forma de representar una función periódica como una suma infinita de funciones trigonométricas (senos y cosenos). En otras palabras, descompone una función periódica en sus componentes de frecuencia más simples. Esto es útil porque permite analizar y manipular funciones complejas de una manera más sencilla.\n",
            "\n",
            " Respuesta con memoria:\n",
            "Me preguntaste sobre la serie de Fourier.\n"
          ]
        }
      ]
    },
    {
      "cell_type": "code",
      "source": [
        "resp1 = execute(agent, \"Recuerda que mi color favorito es azul.\", thread_id=\"demo123\")\n",
        "print(resp1[\"messages\"][-1].content)\n",
        "\n",
        "resp2 = execute(agent, \"¿Cuál es mi color favorito?\", thread_id=\"demo123\")\n",
        "print(resp2[\"messages\"][-1].content)\n",
        "\n",
        "# Forzar olvido: nuevo thread_id\n",
        "resp3 = execute(agent, \"¿Cuál es mi color favorito?\", thread_id=\"otro123\")\n",
        "print(resp3[\"messages\"][-1].content)"
      ],
      "metadata": {
        "colab": {
          "base_uri": "https://localhost:8080/"
        },
        "id": "C0rdJ43BWhwB",
        "outputId": "9ebf2560-722a-42b0-a923-7ed09f905802"
      },
      "execution_count": null,
      "outputs": [
        {
          "output_type": "stream",
          "name": "stdout",
          "text": [
            "[{'type': 'text', 'text': 'De acuerdo, recordaré que tu color favorito es azul.', 'extras': {'signature': 'CvQBAdHtim8h20HXvRtk60QYvzZnQ9jJ2ffAbJEdL1UQQU6eGDAJfuuXMupBIkgQ7nxFcZ4Y86Bb01Sw8HnZXE7pe7gZjJHQ2DUOarCU4RiBBLp146nUYfHKKQ3ddURDpjwsDfuUX4KaebV7iCZXubqMMfS1Y6f3nxCrag2j+rNdzoVea84cLc1LgXloIEoV3JICsXmJpbzMRmYz807L24MBFSzw2515ZB3f2/Btx18DqpuJUkS/Ol/haCypyq/fgdBu8SVEm7tPij1xZbyQ/rP9wcZWfqBXT+yJvu2+FBHz0AqyL6uXnSvbSwG91V3P20nddfOs+w=='}}]\n",
            "Tu color favorito es azul.\n",
            "[{'type': 'text', 'text': 'Lo siento, no tengo acceso a tu información personal, por lo que no puedo saber cuál es tu color favorito.', 'extras': {'signature': 'CqACAdHtim89wTWU+Kc5Emt0/EWq1kUdzUvJ2XmQmcpjAtPF+kj6H5GfgdVLTK9Zi0i/udKHTbleq0hwyb7/TlkgE5RVaPXlAyXZs4inm4uu6057jKLKsuqw+pwmUrPvt2A8fiGRLvy7cTKVNg2IUyTzBV8bw4YvYJupo/pt7W/tBALUJA3njknE3/PdIcCpZfFxS78n1/833aqRlw/5rqf+tengX7oU4ZlYe4uOMG+1I3o0zcoeK92cnWinEUYhfcgpqjxFj4s/yK3FQ0yEEfClFZYkDyJ8X0dMFLGdMum4mR4/Z2te+xsveyZ4bjhAeswgcfWtFI01FYE4Y8KDXhqM4Q/gGkb8GROcOTTy54gYrhvHTYXoY9MRTmwVyyZBvj/f'}}]\n"
          ]
        }
      ]
    },
    {
      "cell_type": "code",
      "source": [
        "from langsmith.run_trees import RunTree\n",
        "from langsmith import Client, traceable\n",
        "\n",
        "tracer = Client() # LangChainTracer has been deprecated, use Client instead.\n",
        "\n",
        "# Decorador traceable para marcar la función de ejecución\n",
        "@traceable(run_type=\"chain\") # Specify run_type\n",
        "def execute(agent, query, thread_id=\"a1b2c3\"):\n",
        "    config = {\"configurable\":{\"thread_id\": thread_id}} # Removed callbacks argument\n",
        "    response = agent.invoke({\"messages\":[HumanMessage(query)]}, config=config)\n",
        "    return response\n",
        "\n",
        "# Ejecuta y luego entra a LangSmith para ver trace.\n",
        "resp = execute(agent, \"Explícame las series de Fourier\")\n",
        "\n",
        "\n",
        "print(resp[\"messages\"][-1].content)"
      ],
      "metadata": {
        "colab": {
          "base_uri": "https://localhost:8080/"
        },
        "id": "U-T5XJBhW7Ft",
        "outputId": "83740b50-5df5-46eb-acf6-139c01f8b4dc"
      },
      "execution_count": null,
      "outputs": [
        {
          "output_type": "stream",
          "name": "stdout",
          "text": [
            "[{'type': 'text', 'text': 'Las series de Fourier son una herramienta matemática que nos permite descomponer cualquier función periódica (es decir, una función que se repite a intervalos regulares) en una suma de funciones trigonométricas más simples: senos y cosenos.\\n\\nImagina que tienes una onda compleja. La serie de Fourier te permite ver esa onda compleja como la suma de muchas ondas de seno y coseno más simples, cada una con su propia frecuencia y amplitud. Es como desarmar un sonido complejo en sus notas musicales individuales.\\n\\nEsto es muy útil en campos como la ingeniería, la física y el procesamiento de señales, porque al entender las frecuencias individuales que componen una señal, es más fácil analizarla, modificarla o incluso predecirla.', 'extras': {'signature': 'Cs4GAdHtim9ZZQzrFXpQnTbGuuo6P3J3Jtu3+gZdK5c4PpmgQUcPHKJ8dLyngdIcQ4YfbDaS+i12OxG7nsfu4iFwch47yBTvbQRjzffCPHbbV0VuRUGabpf4dONex15iPqRoWMCQfvOj8qm1qdi4EeBw0aPs0IAfj+oYWhF3L8P64ZORdFczXP5LF9+ictCEkRxykML2cfiyy1u4ij9CcIVekWHG7ps0M2jHyIb8MRcMRHRmYmgg0jzBvGcKWQzmWYUVrCOzq2N9Vp3OBolDyoWZBYdxRMlO4ChT6dSX1yBNkWKFYYngQ9i+an0E4ouBwuhwfrX+5cJkAIKPbTKIlCT9epEUE9gwkKISGIWBbyg48aHX4QGnV6+fYdMsnpWWQ6sEm1DgLrULfDgvrE8V+oyB0pwuU3bi0bpHbrgt3tKCKcEwmSgsI68ht1PfyFFjMArXTmHAsHfZNVgNj8WA6U5roIzyMLtVNRm0ocHJLfyZhIIEsyWmHPq++nXmFIJTfRE39A/VD28pNJtGQjr7rYP/cbu6I4Eie8fyVynD3GAKrsRqWx7GxKsrZrw7mxCfF7b/afZlCYjvRkuXftG9No8z99azPW5Io34Vcxa75OLgwAWUD/VY0/ricPOspsbSKYFdvKNgX8MUfYA+lDIA1xAsvOa2TA3mrrsctiPn+hWysWQfbPM2vvaAPLiaPI95GQQA+dwSvkIeFwrDu3sQ4ZY5ZBEb2kdtHBxJ2VdtH0NCM+SATKUHlnLm/qZgA7eWyQ0nbDvIggiPsKAEudgAXF6qXF8Rlaskd5Eer0ufekeu4j3akajOjWjiutp5h2h07IICt1znwCoo6/cRuh4jGyNUzJWY63cdvXGt0w/rTPB+PcdmtcGqIeU0oB05H35+NeaOZU/4Nzd4MWqv1AcuX5v0AQMb09uc/WqDOKpD9Ijz2eq+hYH5EYBvKu2MxNuR2NcDCLYVkhVFUy2M1NGJv2NP3OAiHF3FOoEnGPpM/4wpPhVAGWnDjLspP3yC8BTdjXQ+zwWj46yzPEvEAQlmmdLSQIauTgzFYPZlrD78mgNRx/JRrwfjCzjnwqYS9JHdm0G5QEC6aXxIz9HOcvQe01shRYhq+W0WxblCxpW1W+Pv'}}]\n"
          ]
        }
      ]
    },
    {
      "cell_type": "code",
      "source": [],
      "metadata": {
        "id": "5mrTwfdQzALS"
      },
      "execution_count": null,
      "outputs": []
    }
  ]
}