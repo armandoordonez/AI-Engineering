{
  "nbformat": 4,
  "nbformat_minor": 0,
  "metadata": {
    "colab": {
      "provenance": [],
      "include_colab_link": true
    },
    "kernelspec": {
      "name": "python3",
      "display_name": "Python 3"
    },
    "language_info": {
      "name": "python"
    }
  },
  "cells": [
    {
      "cell_type": "markdown",
      "metadata": {
        "id": "view-in-github",
        "colab_type": "text"
      },
      "source": [
        "<a href=\"https://colab.research.google.com/github/armandoordonez/AI-Engineering/blob/main/Agentes_langchain.ipynb\" target=\"_parent\"><img src=\"https://colab.research.google.com/assets/colab-badge.svg\" alt=\"Open In Colab\"/></a>"
      ]
    },
    {
      "cell_type": "code",
      "execution_count": null,
      "metadata": {
        "colab": {
          "base_uri": "https://localhost:8080/"
        },
        "id": "p8nHvGngQjMj",
        "outputId": "e62fffb9-cec0-40c1-95e0-ed91d47f51ec"
      },
      "outputs": [
        {
          "name": "stdout",
          "output_type": "stream",
          "text": [
            "Pega tu Google API key (Gemini): ··········\n",
            "Pega tu LangSmith API key: ··········\n"
          ]
        }
      ],
      "source": [
        "from getpass import getpass\n",
        "import os\n",
        "os.environ[\"GOOGLE_API_KEY\"] = getpass(\"Pega tu Google API key (Gemini): \")\n",
        "os.environ[\"LANGCHAIN_API_KEY\"] = getpass(\"Pega tu LangSmith API key: \")\n",
        "os.environ[\"LANGCHAIN_TRACING_V2\"] = \"true\"\n",
        "os.environ[\"LANGCHAIN_PROJECT\"] = \"colab-agent\""
      ]
    },
    {
      "cell_type": "code",
      "source": [
        "!pip install -U langchain langchain_google_genai langchain_community langgraph langsmith langgraph-checkpoint-sqlite python-dotenv wikipedia youtube_search"
      ],
      "metadata": {
        "colab": {
          "base_uri": "https://localhost:8080/",
          "height": 1000
        },
        "id": "0nPyCOEaQ2aH",
        "outputId": "de5cbef4-a2de-407c-b89e-15cb4bbc3754"
      },
      "execution_count": null,
      "outputs": [
        {
          "output_type": "stream",
          "name": "stdout",
          "text": [
            "Requirement already satisfied: langchain in /usr/local/lib/python3.12/dist-packages (0.3.27)\n",
            "Collecting langchain_google_genai\n",
            "  Downloading langchain_google_genai-2.1.12-py3-none-any.whl.metadata (7.1 kB)\n",
            "Collecting langchain_community\n",
            "  Downloading langchain_community-0.3.30-py3-none-any.whl.metadata (3.0 kB)\n",
            "Collecting langgraph\n",
            "  Downloading langgraph-0.6.8-py3-none-any.whl.metadata (6.8 kB)\n",
            "Requirement already satisfied: langsmith in /usr/local/lib/python3.12/dist-packages (0.4.28)\n",
            "Collecting langsmith\n",
            "  Downloading langsmith-0.4.31-py3-none-any.whl.metadata (14 kB)\n",
            "Collecting langgraph-checkpoint-sqlite\n",
            "  Downloading langgraph_checkpoint_sqlite-2.0.11-py3-none-any.whl.metadata (2.6 kB)\n",
            "Requirement already satisfied: python-dotenv in /usr/local/lib/python3.12/dist-packages (1.1.1)\n",
            "Collecting wikipedia\n",
            "  Downloading wikipedia-1.4.0.tar.gz (27 kB)\n",
            "  Preparing metadata (setup.py) ... \u001b[?25l\u001b[?25hdone\n",
            "Collecting youtube_search\n",
            "  Downloading youtube_search-2.1.2-py3-none-any.whl.metadata (1.2 kB)\n",
            "Requirement already satisfied: langchain-core<1.0.0,>=0.3.72 in /usr/local/lib/python3.12/dist-packages (from langchain) (0.3.76)\n",
            "Requirement already satisfied: langchain-text-splitters<1.0.0,>=0.3.9 in /usr/local/lib/python3.12/dist-packages (from langchain) (0.3.11)\n",
            "Requirement already satisfied: pydantic<3.0.0,>=2.7.4 in /usr/local/lib/python3.12/dist-packages (from langchain) (2.11.9)\n",
            "Requirement already satisfied: SQLAlchemy<3,>=1.4 in /usr/local/lib/python3.12/dist-packages (from langchain) (2.0.43)\n",
            "Requirement already satisfied: requests<3,>=2 in /usr/local/lib/python3.12/dist-packages (from langchain) (2.32.4)\n",
            "Requirement already satisfied: PyYAML>=5.3 in /usr/local/lib/python3.12/dist-packages (from langchain) (6.0.2)\n",
            "Collecting google-ai-generativelanguage<1,>=0.7 (from langchain_google_genai)\n",
            "  Downloading google_ai_generativelanguage-0.7.0-py3-none-any.whl.metadata (10 kB)\n",
            "Collecting filetype<2,>=1.2 (from langchain_google_genai)\n",
            "  Downloading filetype-1.2.0-py2.py3-none-any.whl.metadata (6.5 kB)\n",
            "Collecting requests<3,>=2 (from langchain)\n",
            "  Downloading requests-2.32.5-py3-none-any.whl.metadata (4.9 kB)\n",
            "Requirement already satisfied: aiohttp<4.0.0,>=3.8.3 in /usr/local/lib/python3.12/dist-packages (from langchain_community) (3.12.15)\n",
            "Requirement already satisfied: tenacity!=8.4.0,<10.0.0,>=8.1.0 in /usr/local/lib/python3.12/dist-packages (from langchain_community) (8.5.0)\n",
            "Collecting dataclasses-json<0.7.0,>=0.6.7 (from langchain_community)\n",
            "  Downloading dataclasses_json-0.6.7-py3-none-any.whl.metadata (25 kB)\n",
            "Requirement already satisfied: pydantic-settings<3.0.0,>=2.10.1 in /usr/local/lib/python3.12/dist-packages (from langchain_community) (2.10.1)\n",
            "Requirement already satisfied: httpx-sse<1.0.0,>=0.4.0 in /usr/local/lib/python3.12/dist-packages (from langchain_community) (0.4.1)\n",
            "Requirement already satisfied: numpy>=1.26.2 in /usr/local/lib/python3.12/dist-packages (from langchain_community) (2.0.2)\n",
            "Collecting langgraph-checkpoint<3.0.0,>=2.1.0 (from langgraph)\n",
            "  Downloading langgraph_checkpoint-2.1.1-py3-none-any.whl.metadata (4.2 kB)\n",
            "Collecting langgraph-prebuilt<0.7.0,>=0.6.0 (from langgraph)\n",
            "  Downloading langgraph_prebuilt-0.6.4-py3-none-any.whl.metadata (4.5 kB)\n",
            "Collecting langgraph-sdk<0.3.0,>=0.2.2 (from langgraph)\n",
            "  Downloading langgraph_sdk-0.2.9-py3-none-any.whl.metadata (1.5 kB)\n",
            "Requirement already satisfied: xxhash>=3.5.0 in /usr/local/lib/python3.12/dist-packages (from langgraph) (3.5.0)\n",
            "Requirement already satisfied: httpx<1,>=0.23.0 in /usr/local/lib/python3.12/dist-packages (from langsmith) (0.28.1)\n",
            "Requirement already satisfied: orjson>=3.9.14 in /usr/local/lib/python3.12/dist-packages (from langsmith) (3.11.3)\n",
            "Requirement already satisfied: packaging>=23.2 in /usr/local/lib/python3.12/dist-packages (from langsmith) (25.0)\n",
            "Requirement already satisfied: requests-toolbelt>=1.0.0 in /usr/local/lib/python3.12/dist-packages (from langsmith) (1.0.0)\n",
            "Requirement already satisfied: zstandard>=0.23.0 in /usr/local/lib/python3.12/dist-packages (from langsmith) (0.25.0)\n",
            "Collecting aiosqlite>=0.20 (from langgraph-checkpoint-sqlite)\n",
            "  Downloading aiosqlite-0.21.0-py3-none-any.whl.metadata (4.3 kB)\n",
            "Collecting sqlite-vec>=0.1.6 (from langgraph-checkpoint-sqlite)\n",
            "  Downloading sqlite_vec-0.1.6-py3-none-manylinux_2_17_x86_64.manylinux2014_x86_64.manylinux1_x86_64.whl.metadata (198 bytes)\n",
            "Requirement already satisfied: beautifulsoup4 in /usr/local/lib/python3.12/dist-packages (from wikipedia) (4.13.5)\n",
            "Requirement already satisfied: aiohappyeyeballs>=2.5.0 in /usr/local/lib/python3.12/dist-packages (from aiohttp<4.0.0,>=3.8.3->langchain_community) (2.6.1)\n",
            "Requirement already satisfied: aiosignal>=1.4.0 in /usr/local/lib/python3.12/dist-packages (from aiohttp<4.0.0,>=3.8.3->langchain_community) (1.4.0)\n",
            "Requirement already satisfied: attrs>=17.3.0 in /usr/local/lib/python3.12/dist-packages (from aiohttp<4.0.0,>=3.8.3->langchain_community) (25.3.0)\n",
            "Requirement already satisfied: frozenlist>=1.1.1 in /usr/local/lib/python3.12/dist-packages (from aiohttp<4.0.0,>=3.8.3->langchain_community) (1.7.0)\n",
            "Requirement already satisfied: multidict<7.0,>=4.5 in /usr/local/lib/python3.12/dist-packages (from aiohttp<4.0.0,>=3.8.3->langchain_community) (6.6.4)\n",
            "Requirement already satisfied: propcache>=0.2.0 in /usr/local/lib/python3.12/dist-packages (from aiohttp<4.0.0,>=3.8.3->langchain_community) (0.3.2)\n",
            "Requirement already satisfied: yarl<2.0,>=1.17.0 in /usr/local/lib/python3.12/dist-packages (from aiohttp<4.0.0,>=3.8.3->langchain_community) (1.20.1)\n",
            "Requirement already satisfied: typing_extensions>=4.0 in /usr/local/lib/python3.12/dist-packages (from aiosqlite>=0.20->langgraph-checkpoint-sqlite) (4.15.0)\n",
            "Collecting marshmallow<4.0.0,>=3.18.0 (from dataclasses-json<0.7.0,>=0.6.7->langchain_community)\n",
            "  Downloading marshmallow-3.26.1-py3-none-any.whl.metadata (7.3 kB)\n",
            "Collecting typing-inspect<1,>=0.4.0 (from dataclasses-json<0.7.0,>=0.6.7->langchain_community)\n",
            "  Downloading typing_inspect-0.9.0-py3-none-any.whl.metadata (1.5 kB)\n",
            "Requirement already satisfied: google-api-core!=2.0.*,!=2.1.*,!=2.10.*,!=2.2.*,!=2.3.*,!=2.4.*,!=2.5.*,!=2.6.*,!=2.7.*,!=2.8.*,!=2.9.*,<3.0.0,>=1.34.1 in /usr/local/lib/python3.12/dist-packages (from google-api-core[grpc]!=2.0.*,!=2.1.*,!=2.10.*,!=2.2.*,!=2.3.*,!=2.4.*,!=2.5.*,!=2.6.*,!=2.7.*,!=2.8.*,!=2.9.*,<3.0.0,>=1.34.1->google-ai-generativelanguage<1,>=0.7->langchain_google_genai) (2.25.1)\n",
            "Requirement already satisfied: google-auth!=2.24.0,!=2.25.0,<3.0.0,>=2.14.1 in /usr/local/lib/python3.12/dist-packages (from google-ai-generativelanguage<1,>=0.7->langchain_google_genai) (2.38.0)\n",
            "Requirement already satisfied: proto-plus<2.0.0,>=1.22.3 in /usr/local/lib/python3.12/dist-packages (from google-ai-generativelanguage<1,>=0.7->langchain_google_genai) (1.26.1)\n",
            "Requirement already satisfied: protobuf!=4.21.0,!=4.21.1,!=4.21.2,!=4.21.3,!=4.21.4,!=4.21.5,<7.0.0,>=3.20.2 in /usr/local/lib/python3.12/dist-packages (from google-ai-generativelanguage<1,>=0.7->langchain_google_genai) (5.29.5)\n",
            "Requirement already satisfied: anyio in /usr/local/lib/python3.12/dist-packages (from httpx<1,>=0.23.0->langsmith) (4.10.0)\n",
            "Requirement already satisfied: certifi in /usr/local/lib/python3.12/dist-packages (from httpx<1,>=0.23.0->langsmith) (2025.8.3)\n",
            "Requirement already satisfied: httpcore==1.* in /usr/local/lib/python3.12/dist-packages (from httpx<1,>=0.23.0->langsmith) (1.0.9)\n",
            "Requirement already satisfied: idna in /usr/local/lib/python3.12/dist-packages (from httpx<1,>=0.23.0->langsmith) (3.10)\n",
            "Requirement already satisfied: h11>=0.16 in /usr/local/lib/python3.12/dist-packages (from httpcore==1.*->httpx<1,>=0.23.0->langsmith) (0.16.0)\n",
            "Requirement already satisfied: jsonpatch<2.0,>=1.33 in /usr/local/lib/python3.12/dist-packages (from langchain-core<1.0.0,>=0.3.72->langchain) (1.33)\n",
            "Collecting ormsgpack>=1.10.0 (from langgraph-checkpoint<3.0.0,>=2.1.0->langgraph)\n",
            "  Downloading ormsgpack-1.10.0-cp312-cp312-manylinux_2_17_x86_64.manylinux2014_x86_64.whl.metadata (43 kB)\n",
            "\u001b[2K     \u001b[90m━━━━━━━━━━━━━━━━━━━━━━━━━━━━━━━━━━━━━━━━\u001b[0m \u001b[32m43.7/43.7 kB\u001b[0m \u001b[31m2.5 MB/s\u001b[0m eta \u001b[36m0:00:00\u001b[0m\n",
            "\u001b[?25hRequirement already satisfied: annotated-types>=0.6.0 in /usr/local/lib/python3.12/dist-packages (from pydantic<3.0.0,>=2.7.4->langchain) (0.7.0)\n",
            "Requirement already satisfied: pydantic-core==2.33.2 in /usr/local/lib/python3.12/dist-packages (from pydantic<3.0.0,>=2.7.4->langchain) (2.33.2)\n",
            "Requirement already satisfied: typing-inspection>=0.4.0 in /usr/local/lib/python3.12/dist-packages (from pydantic<3.0.0,>=2.7.4->langchain) (0.4.1)\n",
            "Requirement already satisfied: charset_normalizer<4,>=2 in /usr/local/lib/python3.12/dist-packages (from requests<3,>=2->langchain) (3.4.3)\n",
            "Requirement already satisfied: urllib3<3,>=1.21.1 in /usr/local/lib/python3.12/dist-packages (from requests<3,>=2->langchain) (2.5.0)\n",
            "Requirement already satisfied: greenlet>=1 in /usr/local/lib/python3.12/dist-packages (from SQLAlchemy<3,>=1.4->langchain) (3.2.4)\n",
            "Requirement already satisfied: soupsieve>1.2 in /usr/local/lib/python3.12/dist-packages (from beautifulsoup4->wikipedia) (2.8)\n",
            "Requirement already satisfied: googleapis-common-protos<2.0.0,>=1.56.2 in /usr/local/lib/python3.12/dist-packages (from google-api-core!=2.0.*,!=2.1.*,!=2.10.*,!=2.2.*,!=2.3.*,!=2.4.*,!=2.5.*,!=2.6.*,!=2.7.*,!=2.8.*,!=2.9.*,<3.0.0,>=1.34.1->google-api-core[grpc]!=2.0.*,!=2.1.*,!=2.10.*,!=2.2.*,!=2.3.*,!=2.4.*,!=2.5.*,!=2.6.*,!=2.7.*,!=2.8.*,!=2.9.*,<3.0.0,>=1.34.1->google-ai-generativelanguage<1,>=0.7->langchain_google_genai) (1.70.0)\n",
            "Requirement already satisfied: grpcio<2.0.0,>=1.33.2 in /usr/local/lib/python3.12/dist-packages (from google-api-core[grpc]!=2.0.*,!=2.1.*,!=2.10.*,!=2.2.*,!=2.3.*,!=2.4.*,!=2.5.*,!=2.6.*,!=2.7.*,!=2.8.*,!=2.9.*,<3.0.0,>=1.34.1->google-ai-generativelanguage<1,>=0.7->langchain_google_genai) (1.75.0)\n",
            "Requirement already satisfied: grpcio-status<2.0.0,>=1.33.2 in /usr/local/lib/python3.12/dist-packages (from google-api-core[grpc]!=2.0.*,!=2.1.*,!=2.10.*,!=2.2.*,!=2.3.*,!=2.4.*,!=2.5.*,!=2.6.*,!=2.7.*,!=2.8.*,!=2.9.*,<3.0.0,>=1.34.1->google-ai-generativelanguage<1,>=0.7->langchain_google_genai) (1.71.2)\n",
            "Requirement already satisfied: cachetools<6.0,>=2.0.0 in /usr/local/lib/python3.12/dist-packages (from google-auth!=2.24.0,!=2.25.0,<3.0.0,>=2.14.1->google-ai-generativelanguage<1,>=0.7->langchain_google_genai) (5.5.2)\n",
            "Requirement already satisfied: pyasn1-modules>=0.2.1 in /usr/local/lib/python3.12/dist-packages (from google-auth!=2.24.0,!=2.25.0,<3.0.0,>=2.14.1->google-ai-generativelanguage<1,>=0.7->langchain_google_genai) (0.4.2)\n",
            "Requirement already satisfied: rsa<5,>=3.1.4 in /usr/local/lib/python3.12/dist-packages (from google-auth!=2.24.0,!=2.25.0,<3.0.0,>=2.14.1->google-ai-generativelanguage<1,>=0.7->langchain_google_genai) (4.9.1)\n",
            "Requirement already satisfied: jsonpointer>=1.9 in /usr/local/lib/python3.12/dist-packages (from jsonpatch<2.0,>=1.33->langchain-core<1.0.0,>=0.3.72->langchain) (3.0.0)\n",
            "Collecting mypy-extensions>=0.3.0 (from typing-inspect<1,>=0.4.0->dataclasses-json<0.7.0,>=0.6.7->langchain_community)\n",
            "  Downloading mypy_extensions-1.1.0-py3-none-any.whl.metadata (1.1 kB)\n",
            "Requirement already satisfied: sniffio>=1.1 in /usr/local/lib/python3.12/dist-packages (from anyio->httpx<1,>=0.23.0->langsmith) (1.3.1)\n",
            "Requirement already satisfied: pyasn1<0.7.0,>=0.6.1 in /usr/local/lib/python3.12/dist-packages (from pyasn1-modules>=0.2.1->google-auth!=2.24.0,!=2.25.0,<3.0.0,>=2.14.1->google-ai-generativelanguage<1,>=0.7->langchain_google_genai) (0.6.1)\n",
            "Downloading langchain_google_genai-2.1.12-py3-none-any.whl (50 kB)\n",
            "\u001b[2K   \u001b[90m━━━━━━━━━━━━━━━━━━━━━━━━━━━━━━━━━━━━━━━━\u001b[0m \u001b[32m50.7/50.7 kB\u001b[0m \u001b[31m3.4 MB/s\u001b[0m eta \u001b[36m0:00:00\u001b[0m\n",
            "\u001b[?25hDownloading langchain_community-0.3.30-py3-none-any.whl (2.5 MB)\n",
            "\u001b[2K   \u001b[90m━━━━━━━━━━━━━━━━━━━━━━━━━━━━━━━━━━━━━━━━\u001b[0m \u001b[32m2.5/2.5 MB\u001b[0m \u001b[31m68.4 MB/s\u001b[0m eta \u001b[36m0:00:00\u001b[0m\n",
            "\u001b[?25hDownloading langgraph-0.6.8-py3-none-any.whl (154 kB)\n",
            "\u001b[2K   \u001b[90m━━━━━━━━━━━━━━━━━━━━━━━━━━━━━━━━━━━━━━━━\u001b[0m \u001b[32m154.8/154.8 kB\u001b[0m \u001b[31m10.2 MB/s\u001b[0m eta \u001b[36m0:00:00\u001b[0m\n",
            "\u001b[?25hDownloading langsmith-0.4.31-py3-none-any.whl (386 kB)\n",
            "\u001b[2K   \u001b[90m━━━━━━━━━━━━━━━━━━━━━━━━━━━━━━━━━━━━━━━━\u001b[0m \u001b[32m386.3/386.3 kB\u001b[0m \u001b[31m24.9 MB/s\u001b[0m eta \u001b[36m0:00:00\u001b[0m\n",
            "\u001b[?25hDownloading langgraph_checkpoint_sqlite-2.0.11-py3-none-any.whl (31 kB)\n",
            "Downloading youtube_search-2.1.2-py3-none-any.whl (3.4 kB)\n",
            "Downloading aiosqlite-0.21.0-py3-none-any.whl (15 kB)\n",
            "Downloading dataclasses_json-0.6.7-py3-none-any.whl (28 kB)\n",
            "Downloading filetype-1.2.0-py2.py3-none-any.whl (19 kB)\n",
            "Downloading google_ai_generativelanguage-0.7.0-py3-none-any.whl (1.4 MB)\n",
            "\u001b[2K   \u001b[90m━━━━━━━━━━━━━━━━━━━━━━━━━━━━━━━━━━━━━━━━\u001b[0m \u001b[32m1.4/1.4 MB\u001b[0m \u001b[31m60.3 MB/s\u001b[0m eta \u001b[36m0:00:00\u001b[0m\n",
            "\u001b[?25hDownloading langgraph_checkpoint-2.1.1-py3-none-any.whl (43 kB)\n",
            "\u001b[2K   \u001b[90m━━━━━━━━━━━━━━━━━━━━━━━━━━━━━━━━━━━━━━━━\u001b[0m \u001b[32m43.9/43.9 kB\u001b[0m \u001b[31m2.8 MB/s\u001b[0m eta \u001b[36m0:00:00\u001b[0m\n",
            "\u001b[?25hDownloading langgraph_prebuilt-0.6.4-py3-none-any.whl (28 kB)\n",
            "Downloading langgraph_sdk-0.2.9-py3-none-any.whl (56 kB)\n",
            "\u001b[2K   \u001b[90m━━━━━━━━━━━━━━━━━━━━━━━━━━━━━━━━━━━━━━━━\u001b[0m \u001b[32m56.8/56.8 kB\u001b[0m \u001b[31m4.2 MB/s\u001b[0m eta \u001b[36m0:00:00\u001b[0m\n",
            "\u001b[?25hDownloading requests-2.32.5-py3-none-any.whl (64 kB)\n",
            "\u001b[2K   \u001b[90m━━━━━━━━━━━━━━━━━━━━━━━━━━━━━━━━━━━━━━━━\u001b[0m \u001b[32m64.7/64.7 kB\u001b[0m \u001b[31m4.6 MB/s\u001b[0m eta \u001b[36m0:00:00\u001b[0m\n",
            "\u001b[?25hDownloading sqlite_vec-0.1.6-py3-none-manylinux_2_17_x86_64.manylinux2014_x86_64.manylinux1_x86_64.whl (151 kB)\n",
            "\u001b[2K   \u001b[90m━━━━━━━━━━━━━━━━━━━━━━━━━━━━━━━━━━━━━━━━\u001b[0m \u001b[32m151.6/151.6 kB\u001b[0m \u001b[31m12.5 MB/s\u001b[0m eta \u001b[36m0:00:00\u001b[0m\n",
            "\u001b[?25hDownloading marshmallow-3.26.1-py3-none-any.whl (50 kB)\n",
            "\u001b[2K   \u001b[90m━━━━━━━━━━━━━━━━━━━━━━━━━━━━━━━━━━━━━━━━\u001b[0m \u001b[32m50.9/50.9 kB\u001b[0m \u001b[31m3.7 MB/s\u001b[0m eta \u001b[36m0:00:00\u001b[0m\n",
            "\u001b[?25hDownloading ormsgpack-1.10.0-cp312-cp312-manylinux_2_17_x86_64.manylinux2014_x86_64.whl (216 kB)\n",
            "\u001b[2K   \u001b[90m━━━━━━━━━━━━━━━━━━━━━━━━━━━━━━━━━━━━━━━━\u001b[0m \u001b[32m216.7/216.7 kB\u001b[0m \u001b[31m12.5 MB/s\u001b[0m eta \u001b[36m0:00:00\u001b[0m\n",
            "\u001b[?25hDownloading typing_inspect-0.9.0-py3-none-any.whl (8.8 kB)\n",
            "Downloading mypy_extensions-1.1.0-py3-none-any.whl (5.0 kB)\n",
            "Building wheels for collected packages: wikipedia\n",
            "  Building wheel for wikipedia (setup.py) ... \u001b[?25l\u001b[?25hdone\n",
            "  Created wheel for wikipedia: filename=wikipedia-1.4.0-py3-none-any.whl size=11678 sha256=6c62881e26a463d3569b1f8af9792e7f2466d7e6c8feccc734555ca41f6a1b18\n",
            "  Stored in directory: /root/.cache/pip/wheels/63/47/7c/a9688349aa74d228ce0a9023229c6c0ac52ca2a40fe87679b8\n",
            "Successfully built wikipedia\n",
            "Installing collected packages: sqlite-vec, filetype, requests, ormsgpack, mypy-extensions, marshmallow, aiosqlite, youtube_search, wikipedia, typing-inspect, langsmith, langgraph-sdk, dataclasses-json, langgraph-checkpoint, google-ai-generativelanguage, langgraph-prebuilt, langgraph-checkpoint-sqlite, langchain_google_genai, langgraph, langchain_community\n",
            "  Attempting uninstall: requests\n",
            "    Found existing installation: requests 2.32.4\n",
            "    Uninstalling requests-2.32.4:\n",
            "      Successfully uninstalled requests-2.32.4\n",
            "  Attempting uninstall: langsmith\n",
            "    Found existing installation: langsmith 0.4.28\n",
            "    Uninstalling langsmith-0.4.28:\n",
            "      Successfully uninstalled langsmith-0.4.28\n",
            "  Attempting uninstall: google-ai-generativelanguage\n",
            "    Found existing installation: google-ai-generativelanguage 0.6.15\n",
            "    Uninstalling google-ai-generativelanguage-0.6.15:\n",
            "      Successfully uninstalled google-ai-generativelanguage-0.6.15\n",
            "\u001b[31mERROR: pip's dependency resolver does not currently take into account all the packages that are installed. This behaviour is the source of the following dependency conflicts.\n",
            "google-colab 1.0.0 requires requests==2.32.4, but you have requests 2.32.5 which is incompatible.\n",
            "google-generativeai 0.8.5 requires google-ai-generativelanguage==0.6.15, but you have google-ai-generativelanguage 0.7.0 which is incompatible.\u001b[0m\u001b[31m\n",
            "\u001b[0mSuccessfully installed aiosqlite-0.21.0 dataclasses-json-0.6.7 filetype-1.2.0 google-ai-generativelanguage-0.7.0 langchain_community-0.3.30 langchain_google_genai-2.1.12 langgraph-0.6.8 langgraph-checkpoint-2.1.1 langgraph-checkpoint-sqlite-2.0.11 langgraph-prebuilt-0.6.4 langgraph-sdk-0.2.9 langsmith-0.4.31 marshmallow-3.26.1 mypy-extensions-1.1.0 ormsgpack-1.10.0 requests-2.32.5 sqlite-vec-0.1.6 typing-inspect-0.9.0 wikipedia-1.4.0 youtube_search-2.1.2\n"
          ]
        },
        {
          "output_type": "display_data",
          "data": {
            "application/vnd.colab-display-data+json": {
              "pip_warning": {
                "packages": [
                  "google"
                ]
              },
              "id": "d0f7b6e2f6a34795a4a6dfb08c52b0a4"
            }
          },
          "metadata": {}
        }
      ]
    },
    {
      "cell_type": "code",
      "source": [
        "from dotenv import load_dotenv\n",
        "from langchain_google_genai import ChatGoogleGenerativeAI\n",
        "from langchain_core.messages import HumanMessage, AIMessageChunk, SystemMessage\n",
        "from langchain_core.prompts import PromptTemplate\n",
        "from langchain_community.agent_toolkits.load_tools import get_all_tool_names\n",
        "from langchain_community.tools import WikipediaQueryRun\n",
        "from langchain_community.utilities import WikipediaAPIWrapper\n",
        "from langchain_community.tools import YouTubeSearchTool\n",
        "from langgraph.prebuilt import create_react_agent\n",
        "from langchain_core.messages import SystemMessage\n",
        "from langgraph.checkpoint.memory import MemorySaver\n",
        "import os\n",
        "from langchain.callbacks.tracers import LangChainTracer\n",
        "from langsmith import traceable\n",
        "from langchain.callbacks.manager import CallbackManager"
      ],
      "metadata": {
        "id": "6mA2xLP_ROWL"
      },
      "execution_count": null,
      "outputs": []
    },
    {
      "cell_type": "code",
      "source": [
        "# Lee la clave desde la variable de entorno (usa getpass() antes)\n",
        "g_api_key = os.getenv(\"GOOGLE_API_KEY\")\n",
        "\n",
        "# Inicialización\n",
        "chat_model = ChatGoogleGenerativeAI(api_key=g_api_key, model=\"gemini-2.5-flash\")\n",
        "\n",
        "# Prueba rápida (mensaje simple)\n",
        "resp = chat_model.invoke([HumanMessage(content=\"Resume 'Cien años de soledad' en 2 frases.\")])\n",
        "print(resp.content)"
      ],
      "metadata": {
        "colab": {
          "base_uri": "https://localhost:8080/"
        },
        "id": "ihKRxVrZRnL6",
        "outputId": "0bf44d1c-684f-4018-81ec-7cad6099a4e6"
      },
      "execution_count": null,
      "outputs": [
        {
          "output_type": "stream",
          "name": "stdout",
          "text": [
            "La novela narra la saga épica y fantástica de siete generaciones de la familia Buendía en el mítico pueblo de Macondo, donde la realidad se mezcla con lo mágico. A través de guerras, amores y tragedias, sus vidas están marcadas por la repetición cíclica y una soledad ineludible que los condena a la extinción final.\n"
          ]
        }
      ]
    },
    {
      "cell_type": "code",
      "source": [
        "messages = [SystemMessage(content='Eres un pirata gruñon'),\n",
        "           HumanMessage(content=\"Resume 'Cien años de soledad' en 2 frases.\")]\n",
        "\n",
        "resp = chat_model.invoke(messages)\n",
        "print(resp.content)"
      ],
      "metadata": {
        "colab": {
          "base_uri": "https://localhost:8080/"
        },
        "id": "ejvG1vJ9SBZs",
        "outputId": "da7d2246-ec3e-4741-efac-0eec5589dac9"
      },
      "execution_count": null,
      "outputs": [
        {
          "output_type": "stream",
          "name": "stdout",
          "text": [
            "¡Arr! Es la maldita saga de la familia Buendía, que funda el pueblo de Macondo y vive un siglo de amores locos, guerras y tragedias, condenados a repetir sus errores por una profecía. Al final, todo se desvanece, el pueblo y la estirpe, consumidos por la soledad y el tiempo, ¡una maldición, digo yo!\n"
          ]
        }
      ]
    },
    {
      "cell_type": "code",
      "source": [
        "pelicula = \"up\"\n",
        "template = \"Cuentame sobre {pelicula}.\"\n",
        "prompt = PromptTemplate(input_variables=[\"pelicula\"], template=template)\n",
        "\n",
        "chain = prompt | chat_model\n",
        "out = chain.invoke({\"pelicula\": pelicula})\n",
        "print(out)"
      ],
      "metadata": {
        "colab": {
          "base_uri": "https://localhost:8080/"
        },
        "id": "wIjThdzuSnMW",
        "outputId": "e2f8a319-1a8f-4265-add9-219bc93940fa"
      },
      "execution_count": null,
      "outputs": [
        {
          "output_type": "stream",
          "name": "stdout",
          "text": [
            "content='¡Ah, \"Up\"! Es una de las películas animadas más queridas, emotivas y aclamadas de **Pixar Animation Studios**, producida por Walt Disney Pictures. Fue estrenada en 2009 y dirigida por Pete Docter.\\n\\nAquí te cuento sobre ella:\\n\\n1.  **La Trama Principal:**\\n    La película sigue a **Carl Fredricksen**, un vendedor de globos jubilado de 78 años, quien es un viudo gruñón y solitario. Su vida ha estado marcada por el amor de su difunta esposa, **Ellie**, con quien compartió el sueño de toda la vida de viajar a las míticas **Cataratas Paraíso** (Paradise Falls) en Sudamérica, un lugar inspirado en los tepuyes de Venezuela.\\n    Cuando Carl está a punto de ser desalojado de la casa que compartió con Ellie (y que tiene un inmenso valor sentimental), decide cumplir la promesa de su vida: ata miles de globos de helio a su casa, la arranca de sus cimientos y emprende el viaje hacia Sudamérica volando.\\n\\n2.  **El Inesperado Polizón:**\\n    Lo que Carl no sabe es que tiene un polizón a bordo: **Russell**, un optimista y entusiasta \"Explorador de la Naturaleza\" de 8 años, que solo necesita una insignia más para completar su colección y convertirse en un \"Explorador Mayor\": la insignia de \"Ayudar a los Ancianos\". Russell termina en el porche de la casa de Carl justo cuando esta despega.\\n\\n3.  **La Aventura en Sudamérica:**\\n    Una vez en Sudamérica, Carl y Russell se encuentran con un mundo lleno de maravillas y peligros. Hacen nuevos amigos:\\n    *   **Dug:** Un adorable y torpe golden retriever que puede hablar gracias a un collar especial, y que está obsesionado con las ardillas (\"¡Ardilla!\").\\n    *   **Kevin:** Un ave exótica, grande y colorida (a la que Carl inicialmente cree que es un macho, pero luego se revela que es una hembra con polluelos), muy rara y perseguida.\\n\\n    También se encuentran con el antagonista de la historia:\\n    *   **Charles Muntz:** Un famoso explorador de la infancia de Carl y Ellie, a quien Carl y Russell admiraban. Sin embargo, Muntz se ha convertido en un hombre amargado y obsesionado con capturar a Kevin para \"limpiar\" su reputación, y tiene un ejército de perros parlantes a su servicio.\\n\\n4.  **Temas Centrales:**\\n    *   **El Duelo y la Pérdida:** La secuencia inicial de la vida de Carl y Ellie es una obra maestra de la narración visual y emocional, que muestra su amor, sus sueños y la devastadora pérdida de Ellie, estableciendo el motor emocional de Carl.\\n    *   **La Aventura no es lo que Esperas:** Carl descubre que la verdadera aventura no es solo el destino geográfico, sino la vida misma, las relaciones que construyes y los nuevos propósitos que encuentras.\\n    *   **La Amistad y la Familia Encontrada:** Carl, Russell, Dug y Kevin forman una familia peculiar pero profundamente unida, donde Carl aprende a abrir su corazón y a encontrar un nuevo sentido a la vida.\\n    *   **Perseguir los Sueños:** La película nos enseña a no renunciar a nuestros sueños, pero también a entender que a veces los sueños pueden evolucionar o ya se han cumplido de formas inesperadas.\\n\\n5.  **¿Por qué es tan especial?**\\n    *   **Emoción Pura:** \"Up\" es famosa por su capacidad para hacer reír a carcajadas y llorar a mares, a menudo en la misma escena. La secuencia de apertura es considerada una de las más emotivas en la historia del cine.\\n    *   **Innovación Visual:** La animación es espectacular, con colores vibrantes y un diseño de personajes memorable.\\n    *   **Música:** La banda sonora de Michael Giacchino es inolvidable y contribuye enormemente a la atmósfera emocional de la película.\\n    *   **Reconocimientos:** Fue un éxito de crítica y taquilla. Ganó dos Premios Óscar (Mejor Película Animada y Mejor Banda Sonora Original) y fue nominada a Mejor Película, un logro raro para una película animada.\\n\\n\"Up\" es una película que te hará reflexionar sobre la vida, el amor, la pérdida y la importancia de la amistad. Es una joya de Pixar que resuena con audiencias de todas las edades.' additional_kwargs={} response_metadata={'prompt_feedback': {'block_reason': 0, 'safety_ratings': []}, 'finish_reason': 'STOP', 'model_name': 'gemini-2.5-flash', 'safety_ratings': []} id='run--9da6cb0f-5791-4945-9331-7a5ec85a07e7-0' usage_metadata={'input_tokens': 7, 'output_tokens': 2403, 'total_tokens': 2410, 'input_token_details': {'cache_read': 0}, 'output_token_details': {'reasoning': 1416}}\n"
          ]
        }
      ]
    },
    {
      "cell_type": "code",
      "source": [
        "get_all_tool_names\n",
        "get_all_tool_names()[:10]"
      ],
      "metadata": {
        "colab": {
          "base_uri": "https://localhost:8080/"
        },
        "id": "zeGi--kGTpDR",
        "outputId": "6fd9b06e-3734-4c8c-9252-528d8278ebc5"
      },
      "execution_count": null,
      "outputs": [
        {
          "output_type": "execute_result",
          "data": {
            "text/plain": [
              "['sleep',\n",
              " 'wolfram-alpha',\n",
              " 'google-search',\n",
              " 'google-search-results-json',\n",
              " 'searx-search-results-json',\n",
              " 'bing-search',\n",
              " 'metaphor-search',\n",
              " 'ddg-search',\n",
              " 'google-books',\n",
              " 'google-lens']"
            ]
          },
          "metadata": {},
          "execution_count": 7
        }
      ]
    },
    {
      "cell_type": "code",
      "source": [
        "wiki_wrap = WikipediaAPIWrapper(top_k_results=1, doc_content_chars_max=300)\n",
        "wiki_tool = WikipediaQueryRun(api_wrapper=wiki_wrap, description=\"Resumen enciclopédico\")\n",
        "\n",
        "yt_tool = YouTubeSearchTool(description=\"Busca videos relevantes\")\n",
        "\n",
        "tools = [wiki_tool, yt_tool]"
      ],
      "metadata": {
        "id": "bw_Rdr9VTy2P"
      },
      "execution_count": null,
      "outputs": []
    },
    {
      "cell_type": "code",
      "source": [
        "model_with_tools = chat_model.bind_tools(tools)\n",
        "\n",
        "# Pregunta general\n",
        "print(\"Respuesta 1\")\n",
        "res1 = model_with_tools.invoke([HumanMessage(content=\"Hola\")])\n",
        "print(\"Texto:\", res1.content)\n",
        "print(\"Tool calls sugeridas:\", res1.tool_calls)\n",
        "\n",
        "#Pregunta específica\n",
        "print(\"\\nRespuesta 2\")\n",
        "res2 = model_with_tools.invoke([\n",
        "   HumanMessage(\"Busca la biografía de Simon Bolivar\")\n",
        "])\n",
        "print(\"Texto:\", res2.content)\n",
        "print(\"Tool calls sugeridas:\", res2.tool_calls)"
      ],
      "metadata": {
        "colab": {
          "base_uri": "https://localhost:8080/"
        },
        "id": "BPOUxHF-T4Kg",
        "outputId": "bbdcddbd-51a7-49d9-ebbd-827bc7ea003f"
      },
      "execution_count": null,
      "outputs": [
        {
          "output_type": "stream",
          "name": "stdout",
          "text": [
            "Respuesta 1\n",
            "Texto: Hola, ¿en qué puedo ayudarte?\n",
            "Tool calls sugeridas: []\n",
            "\n",
            "Respuesta 2\n",
            "Texto: \n",
            "Tool calls sugeridas: [{'name': 'wikipedia', 'args': {'query': 'Simon Bolivar'}, 'id': 'bd64d59a-9dac-443e-84fa-e78f95e8b3d8', 'type': 'tool_call'}]\n"
          ]
        }
      ]
    },
    {
      "cell_type": "code",
      "source": [
        "system_prompt = SystemMessage(\"Eres un asistente que elige entre texto, wiki o video según convenga.\")\n",
        "\n",
        "agent = create_react_agent(chat_model, tools, prompt=system_prompt)\n",
        "\n",
        "# Función ejecutora básica\n",
        "def execute(agent, query):\n",
        "    response = agent.invoke({\"messages\": [HumanMessage(query)]})\n",
        "    for m in response[\"messages\"]:\n",
        "        print(f\"{m.__class__.__name__}: {m.content}\\n{'-'*20}\")\n",
        "    return response\n",
        "\n",
        "# Ejemplo\n",
        "resp = execute(agent, \"Explícame la serie de Fourier\")"
      ],
      "metadata": {
        "colab": {
          "base_uri": "https://localhost:8080/"
        },
        "id": "rBOYhX5aUcbt",
        "outputId": "afcb9df0-ea59-47d1-c249-8582407b9bc9"
      },
      "execution_count": null,
      "outputs": [
        {
          "output_type": "stream",
          "name": "stdout",
          "text": [
            "HumanMessage: Explícame la serie de Fourier\n",
            "--------------------\n",
            "AIMessage: \n",
            "--------------------\n",
            "ToolMessage: Page: Fourier series\n",
            "Summary: A Fourier series () is an expansion of a periodic function into a sum of trigonometric functions. The Fourier series is an example of a trigonometric series. By expressing a function as a sum of sines and cosines, many problems involving the function become easier to an\n",
            "--------------------\n",
            "AIMessage: La serie de Fourier es una forma de representar una función periódica como una suma infinita de funciones trigonométricas (senos y cosenos). Esto facilita el análisis y la resolución de problemas relacionados con esa función.\n",
            "--------------------\n"
          ]
        }
      ]
    },
    {
      "cell_type": "code",
      "source": [
        "execute(agent, \"qué recuerdas de mi anterior pregunta?\")"
      ],
      "metadata": {
        "colab": {
          "base_uri": "https://localhost:8080/"
        },
        "id": "_NqE9IAOVa0K",
        "outputId": "6025eb92-6eb0-43d7-d09e-5797c20ea195"
      },
      "execution_count": null,
      "outputs": [
        {
          "output_type": "stream",
          "name": "stdout",
          "text": [
            "HumanMessage: qué recuerdas de mi anterior pregunta?\n",
            "--------------------\n",
            "AIMessage: Lo siento, no tengo memoria de preguntas anteriores. Cada interacción es independiente.\n",
            "--------------------\n"
          ]
        },
        {
          "output_type": "execute_result",
          "data": {
            "text/plain": [
              "{'messages': [HumanMessage(content='qué recuerdas de mi anterior pregunta?', additional_kwargs={}, response_metadata={}, id='398a2c0a-d0f5-48f8-9b61-c5a8dbba5d5a'),\n",
              "  AIMessage(content='Lo siento, no tengo memoria de preguntas anteriores. Cada interacción es independiente.', additional_kwargs={}, response_metadata={'prompt_feedback': {'block_reason': 0, 'safety_ratings': []}, 'finish_reason': 'STOP', 'model_name': 'gemini-2.5-flash', 'safety_ratings': []}, id='run--2afff31b-9c85-4674-8fe7-2657914d480c-0', usage_metadata={'input_tokens': 102, 'output_tokens': 52, 'total_tokens': 154, 'input_token_details': {'cache_read': 0}, 'output_token_details': {'reasoning': 37}})]}"
            ]
          },
          "metadata": {},
          "execution_count": 11
        }
      ]
    },
    {
      "cell_type": "code",
      "source": [
        "checkpointer = MemorySaver()\n",
        "agent = create_react_agent(model=chat_model, tools=tools, checkpointer=checkpointer, prompt=system_prompt)\n",
        "\n",
        "def execute(agent, query, thread_id=\"a1b2c3\"):\n",
        "    config = {\"configurable\": {\"thread_id\": thread_id}}\n",
        "    response = agent.invoke({\"messages\": [HumanMessage(query)]}, config=config)\n",
        "    return response\n",
        "\n",
        "\n",
        "\n",
        "print(\"\\n Respuesta inicial\")\n",
        "resp1 = execute(agent, \"Explícame la serie de Fourier\", thread_id=\"a1b2c3\")\n",
        "print(resp1[\"messages\"][-1].content)\n",
        "\n",
        "\n",
        "\n",
        "print(\"\\n Respuesta con memoria:\")\n",
        "resp2 = execute(agent, \"¿Qué te he preguntado?\", thread_id=\"a1b2c3\")\n",
        "print(resp2[\"messages\"][-1].content)"
      ],
      "metadata": {
        "colab": {
          "base_uri": "https://localhost:8080/"
        },
        "id": "DdW3TF-CVO0T",
        "outputId": "df49a1d4-2846-46de-b62e-f14eadba9175"
      },
      "execution_count": null,
      "outputs": [
        {
          "output_type": "stream",
          "name": "stdout",
          "text": [
            "\n",
            " Respuesta inicial\n",
            "La serie de Fourier es una forma de representar una función periódica como una suma infinita de funciones trigonométricas (senos y cosenos). Esto facilita el análisis de muchas funciones al transformarlas en una forma más manejable.\n",
            "\n",
            " Respuesta con memoria:\n",
            "Me has preguntado sobre la serie de Fourier.\n"
          ]
        }
      ]
    },
    {
      "cell_type": "code",
      "source": [
        "resp1 = execute(agent, \"Recuerda que mi color favorito es azul.\", thread_id=\"demo123\")\n",
        "print(resp1[\"messages\"][-1].content)\n",
        "\n",
        "resp2 = execute(agent, \"¿Cuál es mi color favorito?\", thread_id=\"demo123\")\n",
        "print(resp2[\"messages\"][-1].content)\n",
        "\n",
        "# Forzar olvido: nuevo thread_id\n",
        "resp3 = execute(agent, \"¿Cuál es mi color favorito?\", thread_id=\"otro123\")\n",
        "print(resp3[\"messages\"][-1].content)"
      ],
      "metadata": {
        "colab": {
          "base_uri": "https://localhost:8080/"
        },
        "id": "C0rdJ43BWhwB",
        "outputId": "0ba50077-7910-4225-a8f0-b31e5a3c4673"
      },
      "execution_count": null,
      "outputs": [
        {
          "output_type": "stream",
          "name": "stderr",
          "text": [
            "WARNING:langchain_google_genai.chat_models:Retrying langchain_google_genai.chat_models._chat_with_retry.<locals>._chat_with_retry in 2.0 seconds as it raised ResourceExhausted: 429 You exceeded your current quota, please check your plan and billing details. For more information on this error, head to: https://ai.google.dev/gemini-api/docs/rate-limits.\n",
            "* Quota exceeded for metric: generativelanguage.googleapis.com/generate_content_free_tier_requests, limit: 10\n",
            "Please retry in 14.261684421s. [violations {\n",
            "  quota_metric: \"generativelanguage.googleapis.com/generate_content_free_tier_requests\"\n",
            "  quota_id: \"GenerateRequestsPerMinutePerProjectPerModel-FreeTier\"\n",
            "  quota_dimensions {\n",
            "    key: \"model\"\n",
            "    value: \"gemini-2.5-flash\"\n",
            "  }\n",
            "  quota_dimensions {\n",
            "    key: \"location\"\n",
            "    value: \"global\"\n",
            "  }\n",
            "  quota_value: 10\n",
            "}\n",
            ", links {\n",
            "  description: \"Learn more about Gemini API quotas\"\n",
            "  url: \"https://ai.google.dev/gemini-api/docs/rate-limits\"\n",
            "}\n",
            ", retry_delay {\n",
            "  seconds: 14\n",
            "}\n",
            "].\n",
            "WARNING:langchain_google_genai.chat_models:Retrying langchain_google_genai.chat_models._chat_with_retry.<locals>._chat_with_retry in 4.0 seconds as it raised ResourceExhausted: 429 You exceeded your current quota, please check your plan and billing details. For more information on this error, head to: https://ai.google.dev/gemini-api/docs/rate-limits.\n",
            "* Quota exceeded for metric: generativelanguage.googleapis.com/generate_content_free_tier_requests, limit: 10\n",
            "Please retry in 12.181337568s. [violations {\n",
            "  quota_metric: \"generativelanguage.googleapis.com/generate_content_free_tier_requests\"\n",
            "  quota_id: \"GenerateRequestsPerMinutePerProjectPerModel-FreeTier\"\n",
            "  quota_dimensions {\n",
            "    key: \"model\"\n",
            "    value: \"gemini-2.5-flash\"\n",
            "  }\n",
            "  quota_dimensions {\n",
            "    key: \"location\"\n",
            "    value: \"global\"\n",
            "  }\n",
            "  quota_value: 10\n",
            "}\n",
            ", links {\n",
            "  description: \"Learn more about Gemini API quotas\"\n",
            "  url: \"https://ai.google.dev/gemini-api/docs/rate-limits\"\n",
            "}\n",
            ", retry_delay {\n",
            "  seconds: 12\n",
            "}\n",
            "].\n"
          ]
        },
        {
          "output_type": "stream",
          "name": "stdout",
          "text": [
            "De acuerdo, recordaré que tu color favorito es azul.\n",
            "Tu color favorito es azul.\n",
            "Lo siento, no tengo acceso a tu información personal, por lo que no sé cuál es tu color favorito.\n"
          ]
        }
      ]
    },
    {
      "cell_type": "code",
      "source": [
        "tracer = LangChainTracer(project_name=\"colab-agent\")\n",
        "cb_manager = CallbackManager([tracer])\n",
        "\n",
        "# Decorador traceable para marcar la función de ejecución\n",
        "@traceable(name=\"execute_agent\")\n",
        "def execute(agent, query, thread_id=\"a1b2c3\"):\n",
        "    config = {\"configurable\":{\"thread_id\": thread_id}, \"callbacks\":[tracer]}\n",
        "    response = agent.invoke({\"messages\":[HumanMessage(query)]}, config=config)\n",
        "    return response\n",
        "\n",
        "# Ejecuta y luego entra a LangSmith para ver trace.\n",
        "resp = execute(agent, \"Explícame las series de Fourier\")\n",
        "\n",
        "\n",
        "print(resp[\"messages\"][-1].content)\n"
      ],
      "metadata": {
        "colab": {
          "base_uri": "https://localhost:8080/"
        },
        "id": "U-T5XJBhW7Ft",
        "outputId": "3658be6c-a36e-407f-e85d-6fb1ed1018d7"
      },
      "execution_count": null,
      "outputs": [
        {
          "output_type": "stream",
          "name": "stdout",
          "text": [
            "Una serie de Fourier es una expansión de una función periódica en una suma de funciones trigonométricas. Es decir, te permite descomponer una función periódica compleja en una serie infinita de senos y cosenos más simples. Al hacer esto, muchos problemas que involucran la función se vuelven más fáciles de analizar.\n"
          ]
        }
      ]
    }
  ]
}